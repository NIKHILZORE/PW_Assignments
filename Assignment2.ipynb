{
 "cells": [
  {
   "cell_type": "markdown",
   "id": "c884fd0d",
   "metadata": {},
   "source": [
    "Q1) Discuss string slicing and provide examples"
   ]
  },
  {
   "cell_type": "code",
   "execution_count": null,
   "id": "9db42bb8",
   "metadata": {},
   "outputs": [],
   "source": [
    "# 1) String Slicing refers to presenting/ taking a specfic part of string into consideration.\n",
    "# 2) Important when we have to work on a specfic part of the string. \n",
    "# 3) String can be sliced from beginning, end (negative index ), between specfied indexes. \n",
    "# eg)"
   ]
  },
  {
   "cell_type": "code",
   "execution_count": 5,
   "id": "dc3c1437",
   "metadata": {},
   "outputs": [
    {
     "name": "stdout",
     "output_type": "stream",
     "text": [
      "mu\n",
      "mu\n",
      "umbai\n",
      "mumba\n",
      "mma\n"
     ]
    }
   ],
   "source": [
    "a=\"mumbai\"\n",
    "print(a[0:2])   \n",
    "print(a[:2])    # default beginning\n",
    "print(a[1:])    # default ending \n",
    "print(a[:-1])   # -ve index slicing follows above syntax aas well\n",
    "print(a[::2])   # the 3 parameter refers to jumps(skips) in index "
   ]
  },
  {
   "cell_type": "markdown",
   "id": "378692cc",
   "metadata": {},
   "source": [
    "____"
   ]
  },
  {
   "cell_type": "markdown",
   "id": "f0fb8220",
   "metadata": {},
   "source": [
    "Q2) Explain the key features of lists in Python"
   ]
  },
  {
   "cell_type": "code",
   "execution_count": 11,
   "id": "ff463afa",
   "metadata": {},
   "outputs": [
    {
     "name": "stdout",
     "output_type": "stream",
     "text": [
      "ordered way:  ['mumbai', 'delhi', 'kolkata', 'nagpur', 'bangalore']\n",
      "mutability ['mumbai', 'haryana', 'kolkata', 'nagpur', 'bangalore']\n",
      "Appended ['mumbai', 'haryana', 'kolkata', 'nagpur', 'bangalore', 3, 3.8]\n"
     ]
    }
   ],
   "source": [
    "# 1) Strings are ordered , hetrogeneous and mutable \n",
    "\n",
    "\n",
    "a=[\"mumbai\",\"delhi\",\"kolkata\",\"nagpur\",\"bangalore\"]\n",
    "print(\"ordered way: \" ,a)\n",
    "a[1]=\"haryana\"\n",
    "print(\"mutability\",a)\n",
    "a.append(3)\n",
    "a.append(3.8)\n",
    "print(\"Appended\",a)"
   ]
  },
  {
   "cell_type": "code",
   "execution_count": 13,
   "id": "55c24f16",
   "metadata": {},
   "outputs": [
    {
     "name": "stdout",
     "output_type": "stream",
     "text": [
      "3.8\n"
     ]
    }
   ],
   "source": [
    "# 2) List can be accessed through -ve index as well.\n",
    "\n",
    "print(a[2])   # forward access \n",
    "print(a[-1])  # -ve access   (follows same as string)"
   ]
  },
  {
   "cell_type": "markdown",
   "id": "2c99ea7d",
   "metadata": {},
   "source": [
    "3) They can be used as data strucutres like stack (LIFO) and Queue (FIFO). Queue can be implemented using the 'deque' and 'queue' modeules . Stack can be implemented through normal coding. "
   ]
  },
  {
   "cell_type": "markdown",
   "id": "5b279255",
   "metadata": {},
   "source": [
    "4) These are the some important key features which makes list more efficient other than that we can also 'extend' string , concatenate, count the length , count specfic element , append , remove and also apply comprehensive statements as well."
   ]
  },
  {
   "cell_type": "markdown",
   "id": "d1d6f6ad",
   "metadata": {},
   "source": [
    "5) String can be copied in two ways DEEP COPY AND SHALLOW COPY . Deep copy when the exact string is replicated and pointed by a different var stored at different memory location. Here the both list will be independent , Whereas in shallow copy another var points to the same list which is being  already holded by a var. In this case both var can modify the list "
   ]
  },
  {
   "cell_type": "code",
   "execution_count": 19,
   "id": "540dae5a",
   "metadata": {},
   "outputs": [
    {
     "name": "stdout",
     "output_type": "stream",
     "text": [
      "SHALLOW COPY\n",
      "S= ['Bihar', 'delhi', 'kolkata', 'nagpur', 'bangalore']\n",
      "a= ['Bihar', 'delhi', 'kolkata', 'nagpur', 'bangalore']\n",
      "DEEP COPY\n",
      "d= ['Bihar', 'delhi', 'kolkata', 'nagpur', 'bangalore']\n",
      "d= ['MUMBAI', 'delhi', 'kolkata', 'nagpur', 'bangalore']\n",
      "a ['Bihar', 'delhi', 'kolkata', 'nagpur', 'bangalore']\n"
     ]
    }
   ],
   "source": [
    "# eg\n",
    "a=[\"mumbai\",\"delhi\",\"kolkata\",\"nagpur\",\"bangalore\"]\n",
    "print(\"SHALLOW COPY\")\n",
    "s=a   # shallow copy \n",
    "s[0]=\"Bihar\"\n",
    "print(\"S=\",s)\n",
    "print(\"a=\",a)  # here the list gets modified by both var s and a\n",
    "print(\"DEEP COPY\")\n",
    "d=a.copy()  # deep copy\n",
    "print(\"d=\",d)\n",
    "d[0]=\"MUMBAI\"\n",
    "print(\"d=\",d)   # here only d gets modified not a because they are now independent \n",
    "print(\"a\",a)"
   ]
  },
  {
   "cell_type": "markdown",
   "id": "54015b35",
   "metadata": {},
   "source": [
    "6) There can be list inside list (nested list) eg"
   ]
  },
  {
   "cell_type": "code",
   "execution_count": 20,
   "id": "cb25d567",
   "metadata": {},
   "outputs": [
    {
     "name": "stdout",
     "output_type": "stream",
     "text": [
      "['maharashtra', ['mumbai', 'nagpur'], 'haryana', ['ambala', 'sonipat']]\n"
     ]
    }
   ],
   "source": [
    "c=[\"maharashtra\",[\"mumbai\",\"nagpur\"],\"haryana\",[\"ambala\",\"sonipat\"]]\n",
    "print(c)"
   ]
  },
  {
   "cell_type": "markdown",
   "id": "3588a6ad",
   "metadata": {},
   "source": [
    "____"
   ]
  },
  {
   "cell_type": "code",
   "execution_count": null,
   "id": "0b8651e8",
   "metadata": {},
   "outputs": [],
   "source": [
    "Q3) Describe how to access, modify, and delete elements in a list with examples"
   ]
  },
  {
   "cell_type": "code",
   "execution_count": 28,
   "id": "13fba062",
   "metadata": {},
   "outputs": [
    {
     "name": "stdout",
     "output_type": "stream",
     "text": [
      "accessing kolkata\n",
      "modified ['mumbai', 'delhi', 'chennai', 'nagpur', 'bangalore']\n",
      "deleting ['mumbai', 'delhi', 'nagpur', 'bangalore']\n",
      "deleting by pop  ['mumbai', 'delhi', 'nagpur']\n",
      "deleting by clear  []\n"
     ]
    }
   ],
   "source": [
    "a=[\"mumbai\",\"delhi\",\"kolkata\",\"nagpur\",\"bangalore\"]\n",
    "print(\"accessing\", a[2])\n",
    "a[2]=\"chennai\"\n",
    "print(\"modified\",a)\n",
    "a.remove(\"chennai\")\n",
    "print(\"deleting\" ,a)\n",
    "a.pop()      # deletes the last element and can also delete specfic element as well \n",
    "print(\"deleting by pop \",a)\n",
    "a.clear()\n",
    "print(\"deleting by clear \",a)  # deletes all the element "
   ]
  },
  {
   "cell_type": "markdown",
   "id": "86bf33c8",
   "metadata": {},
   "source": [
    "______"
   ]
  },
  {
   "cell_type": "markdown",
   "id": "4abf3ca5",
   "metadata": {},
   "source": [
    " Q4) Compare and contrast tuples and lists with examples"
   ]
  },
  {
   "cell_type": "code",
   "execution_count": 53,
   "id": "1d395fc4",
   "metadata": {},
   "outputs": [],
   "source": [
    "#LIST : \n",
    "# 1) List are ordered , hetrogeneous ,mutable\n",
    "# 2) cannot be used in sets due to mutability (unstable hash value)\n",
    "# 3) Follow all the basic features like mutability , appending , deletion, length , count , concatenate , copy etc .\n",
    "# 4) declaration []\n",
    "# TUPLE :\n",
    "# 1) Tuples are ordered , hetrogeneous, immutable\n",
    "# 2) can be used , stable hash value\n",
    "# 3) follow all basic features of list accept mutability.\n",
    "# 4) declaration ()"
   ]
  },
  {
   "cell_type": "code",
   "execution_count": 30,
   "id": "c33e1c38",
   "metadata": {},
   "outputs": [
    {
     "name": "stdout",
     "output_type": "stream",
     "text": [
      "modified ['mumbai', 'delhi', 'chennai', 'nagpur', 'bangalore']\n"
     ]
    }
   ],
   "source": [
    "# LIST \n",
    "a=[\"mumbai\",\"delhi\",\"kolkata\",\"nagpur\",\"bangalore\"]\n",
    "a[2]=\"chennai\"\n",
    "print(\"modified\",a)"
   ]
  },
  {
   "cell_type": "code",
   "execution_count": 31,
   "id": "eb2477e9",
   "metadata": {},
   "outputs": [
    {
     "ename": "TypeError",
     "evalue": "'tuple' object does not support item assignment",
     "output_type": "error",
     "traceback": [
      "\u001b[1;31m---------------------------------------------------------------------------\u001b[0m",
      "\u001b[1;31mTypeError\u001b[0m                                 Traceback (most recent call last)",
      "Input \u001b[1;32mIn [31]\u001b[0m, in \u001b[0;36m<cell line: 3>\u001b[1;34m()\u001b[0m\n\u001b[0;32m      1\u001b[0m \u001b[38;5;66;03m# TUPLE \u001b[39;00m\n\u001b[0;32m      2\u001b[0m a\u001b[38;5;241m=\u001b[39m(\u001b[38;5;124m\"\u001b[39m\u001b[38;5;124mmumbai\u001b[39m\u001b[38;5;124m\"\u001b[39m,\u001b[38;5;124m\"\u001b[39m\u001b[38;5;124mdelhi\u001b[39m\u001b[38;5;124m\"\u001b[39m,\u001b[38;5;124m\"\u001b[39m\u001b[38;5;124mkolkata\u001b[39m\u001b[38;5;124m\"\u001b[39m,\u001b[38;5;124m\"\u001b[39m\u001b[38;5;124mnagpur\u001b[39m\u001b[38;5;124m\"\u001b[39m,\u001b[38;5;124m\"\u001b[39m\u001b[38;5;124mbangalore\u001b[39m\u001b[38;5;124m\"\u001b[39m)\n\u001b[1;32m----> 3\u001b[0m a[\u001b[38;5;241m2\u001b[39m]\u001b[38;5;241m=\u001b[39m\u001b[38;5;124m\"\u001b[39m\u001b[38;5;124mchennai\u001b[39m\u001b[38;5;124m\"\u001b[39m\n\u001b[0;32m      4\u001b[0m \u001b[38;5;28mprint\u001b[39m(\u001b[38;5;124m\"\u001b[39m\u001b[38;5;124mmodified\u001b[39m\u001b[38;5;124m\"\u001b[39m,a)\n",
      "\u001b[1;31mTypeError\u001b[0m: 'tuple' object does not support item assignment"
     ]
    }
   ],
   "source": [
    "# TUPLE \n",
    "a=(\"mumbai\",\"delhi\",\"kolkata\",\"nagpur\",\"bangalore\")\n",
    "a[2]=\"chennai\"\n",
    "print(\"modified\",a)"
   ]
  },
  {
   "cell_type": "code",
   "execution_count": 32,
   "id": "b8e11a73",
   "metadata": {},
   "outputs": [
    {
     "ename": "TypeError",
     "evalue": "unhashable type: 'list'",
     "output_type": "error",
     "traceback": [
      "\u001b[1;31m---------------------------------------------------------------------------\u001b[0m",
      "\u001b[1;31mTypeError\u001b[0m                                 Traceback (most recent call last)",
      "Input \u001b[1;32mIn [32]\u001b[0m, in \u001b[0;36m<cell line: 2>\u001b[1;34m()\u001b[0m\n\u001b[0;32m      1\u001b[0m \u001b[38;5;66;03m# set usage LIST :\u001b[39;00m\n\u001b[1;32m----> 2\u001b[0m s\u001b[38;5;241m=\u001b[39m{\u001b[38;5;241m1\u001b[39m,\u001b[38;5;241m2\u001b[39m,\u001b[38;5;241m4\u001b[39m,[\u001b[38;5;241m1\u001b[39m,\u001b[38;5;241m2\u001b[39m,\u001b[38;5;241m3\u001b[39m]}\n\u001b[0;32m      3\u001b[0m s\n",
      "\u001b[1;31mTypeError\u001b[0m: unhashable type: 'list'"
     ]
    }
   ],
   "source": [
    "# set usage LIST :\n",
    "s={1,2,4,[1,2,3]}\n",
    "s"
   ]
  },
  {
   "cell_type": "code",
   "execution_count": 33,
   "id": "ab1301b4",
   "metadata": {},
   "outputs": [
    {
     "data": {
      "text/plain": [
       "{(1, 2, 3), 1, 2, 4}"
      ]
     },
     "execution_count": 33,
     "metadata": {},
     "output_type": "execute_result"
    }
   ],
   "source": [
    "# set usage TUPLE :\n",
    "s={1,2,4,(1,2,3)}\n",
    "s"
   ]
  },
  {
   "cell_type": "markdown",
   "id": "edf731e3",
   "metadata": {},
   "source": [
    "____"
   ]
  },
  {
   "cell_type": "markdown",
   "id": "76add936",
   "metadata": {},
   "source": [
    "Q5) Describe the key features of sets and provide examples of their use"
   ]
  },
  {
   "cell_type": "code",
   "execution_count": 34,
   "id": "ef112226",
   "metadata": {},
   "outputs": [],
   "source": [
    "# Seta are unordered , hetrogeneous , mutable (can be added) collection of data .\n",
    "# it supports only  other immutable data structures into it like tuple and no list  and dictionary due mutability.(# DISCUSSED IN ABOVE QUESTION PLEASE REFER)\n",
    "# it contains all the unique elements (removes duplicates even if present)\n",
    "# follows all mathematical set function like union, intersect, diff.\n",
    "# it also has its immutable version 'frozen set 'it avoids addition and deletion after creation."
   ]
  },
  {
   "cell_type": "code",
   "execution_count": 49,
   "id": "bd27f2fd",
   "metadata": {},
   "outputs": [
    {
     "name": "stdout",
     "output_type": "stream",
     "text": [
      "UNIQUENESS : {1, 2, 3, 6, 'mumbai'}\n",
      "\n",
      "SET FUNCTIONS \n",
      "union       : {1, 2, 3, 5, 6, 8, 9, 'mumbai', 'gaziabad'}\n",
      "intersection: set()\n",
      "difference  : {1, 2, 3, 6, 'mumbai'}\n",
      "symm diff   : {1, 2, 3, 5, 6, 8, 9, 'mumbai', 'gaziabad'}\n",
      "\n",
      "UPDATION\n",
      "{1, 2, 3, 6, 'nagpur', 'mumbai'}\n",
      "{2, 3, 6, 'mumbai'}\n",
      "Updating with new string\n"
     ]
    },
    {
     "data": {
      "text/plain": [
       "{2, 3, 6, 'a', 'g', 'mumbai', 'n', 'nagpur', 'p', 'r', 'u'}"
      ]
     },
     "execution_count": 49,
     "metadata": {},
     "output_type": "execute_result"
    }
   ],
   "source": [
    "s={1,2,3,\"mumbai\", 3 ,6 }\n",
    "print(\"UNIQUENESS :\",s)  # 3 twice , unorderedness \n",
    "s1={8,5,9,5,\"gaziabad\"}\n",
    "print()\n",
    "print(\"SET FUNCTIONS \")\n",
    "print(\"union       :\",s|s1)\n",
    "print(\"intersection:\",s&s1)\n",
    "print(\"difference  :\",s-s1)\n",
    "print(\"symm diff   :\",s^s1)\n",
    "print()\n",
    "print(\"UPDATION\")\n",
    "s.add(\"nagpur\")\n",
    "print(s)\n",
    "s.pop()     # removes random element  \n",
    "s.remove(\"nagpur\")  # removes specfied element\n",
    "print(s)\n",
    "\n",
    "print(\"Updating with new string\")\n",
    "s.update(\"nagpur\")                     # methods to deal with update() function but can do with add as well in easy way \n",
    "s\n",
    "s.update([\"nagpur\"])\n",
    "s"
   ]
  },
  {
   "cell_type": "code",
   "execution_count": 50,
   "id": "6bc513ab",
   "metadata": {},
   "outputs": [
    {
     "name": "stdout",
     "output_type": "stream",
     "text": [
      "frozenset({1, 2, 3})\n"
     ]
    }
   ],
   "source": [
    "# FROZEN SET:\n",
    "s2=frozenset({1,2,3})\n",
    "print(s2)"
   ]
  },
  {
   "cell_type": "code",
   "execution_count": 52,
   "id": "63df15d5",
   "metadata": {
    "scrolled": true
   },
   "outputs": [
    {
     "ename": "AttributeError",
     "evalue": "'frozenset' object has no attribute 'add'",
     "output_type": "error",
     "traceback": [
      "\u001b[1;31m---------------------------------------------------------------------------\u001b[0m",
      "\u001b[1;31mAttributeError\u001b[0m                            Traceback (most recent call last)",
      "Input \u001b[1;32mIn [52]\u001b[0m, in \u001b[0;36m<cell line: 1>\u001b[1;34m()\u001b[0m\n\u001b[1;32m----> 1\u001b[0m \u001b[43ms2\u001b[49m\u001b[38;5;241;43m.\u001b[39;49m\u001b[43madd\u001b[49m(\u001b[38;5;241m4\u001b[39m)\n\u001b[0;32m      2\u001b[0m s2\u001b[38;5;241m.\u001b[39mpop()\n",
      "\u001b[1;31mAttributeError\u001b[0m: 'frozenset' object has no attribute 'add'"
     ]
    }
   ],
   "source": [
    "s2.add(4)\n",
    "s2.pop()     # do not support updation."
   ]
  },
  {
   "cell_type": "markdown",
   "id": "ee611cbd",
   "metadata": {},
   "source": [
    "Q6) Discuss the use cases of tuples and sets in Python programming\n"
   ]
  },
  {
   "cell_type": "markdown",
   "id": "23ed8511",
   "metadata": {},
   "source": [
    "TUPLES:\n",
    "\n",
    "tuples can be useful for storing the data which we dont want to update once entered.For eg consider a user entry application here we can track a user entry of each time and for security and monitering purpose one cannot modify it and the data will be straight visible to admin \n",
    "\n",
    "SETS: \n",
    "\n",
    "Sets can we useful where we want all unique values and also a immutability case as well provided with uniqueness. lets say a shopping  application to moniters a customers monthly shopping list there can be multiplr repeted items so using there sets we can get the list of all unique items .\n",
    "\n",
    "Further above with user entry  example we can also use frozen set there as well only difference will be there will be unique values ."
   ]
  },
  {
   "cell_type": "markdown",
   "id": "d72840aa",
   "metadata": {},
   "source": [
    "____"
   ]
  },
  {
   "cell_type": "markdown",
   "id": "32612638",
   "metadata": {},
   "source": [
    "Q7)  Describe how to add, modify, and delete items in a dictionary with examples\n"
   ]
  },
  {
   "cell_type": "markdown",
   "id": "c49f947f",
   "metadata": {},
   "source": [
    "We will see with examples :"
   ]
  },
  {
   "cell_type": "code",
   "execution_count": 64,
   "id": "13eb129e",
   "metadata": {},
   "outputs": [
    {
     "name": "stdout",
     "output_type": "stream",
     "text": [
      "DICTIONARY  {'NIKHIL': 90, 'ROHIT': 89, 'SAMEER': 80, 'MYRA': 90}\n",
      "ADDING\n",
      "AFTER ADDING  {'NIKHIL': 90, 'ROHIT': 89, 'SAMEER': 80, 'MYRA': 90, 'SHREYA': 85}\n",
      "MODIFY\n",
      "MODIFIED  NIKHIL MARKS  {'NIKHIL': 95, 'ROHIT': 89, 'SAMEER': 80, 'MYRA': 90, 'SHREYA': 85}\n",
      "DELETING\n",
      "DELETED NIKHIL {'ROHIT': 89, 'SAMEER': 80, 'MYRA': 90, 'SHREYA': 85}\n",
      "DELETING ENTIRE DATA\n",
      "{}\n"
     ]
    }
   ],
   "source": [
    "# ADD:\n",
    "d={\"NIKHIL\":90,\n",
    "  \"ROHIT\":89,\n",
    "  \"SAMEER\":80,\n",
    "  \"MYRA\":90}\n",
    "print(\"DICTIONARY \",d)\n",
    "print(\"ADDING\")\n",
    "d[\"SHREYA\"]=85\n",
    "print(\"AFTER ADDING \",d)\n",
    "# modify \n",
    "print(\"MODIFY\")\n",
    "d[\"NIKHIL\"]=95\n",
    "print(\"MODIFIED  NIKHIL MARKS \",d)\n",
    "# deleting\n",
    "print(\"DELETING\")\n",
    "d.pop(\"NIKHIL\")       \n",
    "print(\"DELETED NIKHIL\",d)\n",
    "print(\"DELETING ENTIRE DATA\")\n",
    "d.clear()      # clears all the entries \n",
    "print(d)"
   ]
  },
  {
   "cell_type": "code",
   "execution_count": 66,
   "id": "228cf1b8",
   "metadata": {},
   "outputs": [
    {
     "name": "stdout",
     "output_type": "stream",
     "text": [
      "{'name': 'vishakha'}\n",
      "vishakha\n"
     ]
    }
   ],
   "source": [
    "# modify              # if two values have  same keys then the last value will be shown for the key.\n",
    "d={\"name\":\"sameer\",\n",
    "  \"name\":\"vishakha\"}\n",
    "print(d)\n",
    "print(d[\"name\"])"
   ]
  },
  {
   "cell_type": "markdown",
   "id": "c5debb77",
   "metadata": {},
   "source": [
    "___"
   ]
  },
  {
   "cell_type": "markdown",
   "id": "8b27123e",
   "metadata": {},
   "source": [
    "Q8)  Discuss the importance of dictionary keys being immutable and provide examples"
   ]
  },
  {
   "cell_type": "markdown",
   "id": "c0e940e4",
   "metadata": {},
   "source": [
    "keys are like index in dictonary to identify each element of the dictonary .If the key value are mutable there are chances that it can be referenced by such a var which is alreay referencing to other data structure or space in memory and if the the value of that variable is change the corresponding valuwn  will also be changed in dictionary as well leading to errors voilating data security.ie why list dict, sets are not allowed in dict whereas tuples are due to immutability ."
   ]
  },
  {
   "cell_type": "code",
   "execution_count": 68,
   "id": "e621f1e8",
   "metadata": {},
   "outputs": [
    {
     "ename": "TypeError",
     "evalue": "unhashable type: 'list'",
     "output_type": "error",
     "traceback": [
      "\u001b[1;31m---------------------------------------------------------------------------\u001b[0m",
      "\u001b[1;31mTypeError\u001b[0m                                 Traceback (most recent call last)",
      "Input \u001b[1;32mIn [68]\u001b[0m, in \u001b[0;36m<cell line: 2>\u001b[1;34m()\u001b[0m\n\u001b[0;32m      1\u001b[0m \u001b[38;5;66;03m# dict not support mutable obj as keys \u001b[39;00m\n\u001b[1;32m----> 2\u001b[0m d\u001b[38;5;241m=\u001b[39m{[\u001b[38;5;124m\"\u001b[39m\u001b[38;5;124mname\u001b[39m\u001b[38;5;124m\"\u001b[39m]:\u001b[38;5;124m\"\u001b[39m\u001b[38;5;124msameer\u001b[39m\u001b[38;5;124m\"\u001b[39m,\n\u001b[0;32m      3\u001b[0m   \u001b[38;5;124m\"\u001b[39m\u001b[38;5;124mname\u001b[39m\u001b[38;5;124m\"\u001b[39m:\u001b[38;5;124m\"\u001b[39m\u001b[38;5;124mvishakha\u001b[39m\u001b[38;5;124m\"\u001b[39m}\n",
      "\u001b[1;31mTypeError\u001b[0m: unhashable type: 'list'"
     ]
    }
   ],
   "source": [
    "# dict not support mutable obj as keys \n",
    "d={[\"name\"]:\"sameer\",\n",
    "  \"name\":\"vishakha\"}"
   ]
  },
  {
   "cell_type": "code",
   "execution_count": 74,
   "id": "d4d3338a",
   "metadata": {},
   "outputs": [
    {
     "ename": "TypeError",
     "evalue": "unhashable type: 'list'",
     "output_type": "error",
     "traceback": [
      "\u001b[1;31m---------------------------------------------------------------------------\u001b[0m",
      "\u001b[1;31mTypeError\u001b[0m                                 Traceback (most recent call last)",
      "Input \u001b[1;32mIn [74]\u001b[0m, in \u001b[0;36m<cell line: 2>\u001b[1;34m()\u001b[0m\n\u001b[0;32m      1\u001b[0m lis\u001b[38;5;241m=\u001b[39m[\u001b[38;5;124m\"\u001b[39m\u001b[38;5;124mmumbai\u001b[39m\u001b[38;5;124m\"\u001b[39m,\u001b[38;5;124m\"\u001b[39m\u001b[38;5;124mnagpur\u001b[39m\u001b[38;5;124m\"\u001b[39m]\n\u001b[1;32m----> 2\u001b[0m d\u001b[38;5;241m=\u001b[39m{lis:\u001b[38;5;124m\"\u001b[39m\u001b[38;5;124msameer\u001b[39m\u001b[38;5;124m\"\u001b[39m,\n\u001b[0;32m      3\u001b[0m   \u001b[38;5;124m\"\u001b[39m\u001b[38;5;124mname\u001b[39m\u001b[38;5;124m\"\u001b[39m:\u001b[38;5;124m\"\u001b[39m\u001b[38;5;124mvishakha\u001b[39m\u001b[38;5;124m\"\u001b[39m}\n",
      "\u001b[1;31mTypeError\u001b[0m: unhashable type: 'list'"
     ]
    }
   ],
   "source": [
    "lis=[\"mumbai\",\"nagpur\"]\n",
    "d={lis:\"sameer\",\n",
    "  \"name\":\"vishakha\"}"
   ]
  },
  {
   "cell_type": "code",
   "execution_count": 75,
   "id": "009fe95c",
   "metadata": {},
   "outputs": [],
   "source": [
    "tup=(\"mumbai\",\"nagpur\")\n",
    "d={tup:\"sameer\",\n",
    "  \"name\":\"vishakha\"}"
   ]
  },
  {
   "cell_type": "code",
   "execution_count": 76,
   "id": "18c1f46b",
   "metadata": {},
   "outputs": [
    {
     "data": {
      "text/plain": [
       "{('mumbai', 'nagpur'): 'sameer', 'name': 'vishakha'}"
      ]
     },
     "execution_count": 76,
     "metadata": {},
     "output_type": "execute_result"
    }
   ],
   "source": [
    "d"
   ]
  },
  {
   "cell_type": "code",
   "execution_count": 77,
   "id": "dd62d272",
   "metadata": {},
   "outputs": [
    {
     "ename": "TypeError",
     "evalue": "unhashable type: 'set'",
     "output_type": "error",
     "traceback": [
      "\u001b[1;31m---------------------------------------------------------------------------\u001b[0m",
      "\u001b[1;31mTypeError\u001b[0m                                 Traceback (most recent call last)",
      "Input \u001b[1;32mIn [77]\u001b[0m, in \u001b[0;36m<cell line: 2>\u001b[1;34m()\u001b[0m\n\u001b[0;32m      1\u001b[0m s\u001b[38;5;241m=\u001b[39m{\u001b[38;5;124m\"\u001b[39m\u001b[38;5;124mmumbai\u001b[39m\u001b[38;5;124m\"\u001b[39m,\u001b[38;5;124m\"\u001b[39m\u001b[38;5;124mnagpur\u001b[39m\u001b[38;5;124m\"\u001b[39m}\n\u001b[1;32m----> 2\u001b[0m d\u001b[38;5;241m=\u001b[39m{s:\u001b[38;5;124m\"\u001b[39m\u001b[38;5;124msameer\u001b[39m\u001b[38;5;124m\"\u001b[39m,\n\u001b[0;32m      3\u001b[0m   \u001b[38;5;124m\"\u001b[39m\u001b[38;5;124mname\u001b[39m\u001b[38;5;124m\"\u001b[39m:\u001b[38;5;124m\"\u001b[39m\u001b[38;5;124mvishakha\u001b[39m\u001b[38;5;124m\"\u001b[39m}\n",
      "\u001b[1;31mTypeError\u001b[0m: unhashable type: 'set'"
     ]
    }
   ],
   "source": [
    "s={\"mumbai\",\"nagpur\"}\n",
    "d={s:\"sameer\",\n",
    "  \"name\":\"vishakha\"}"
   ]
  },
  {
   "cell_type": "code",
   "execution_count": null,
   "id": "b8ef140a",
   "metadata": {},
   "outputs": [],
   "source": []
  }
 ],
 "metadata": {
  "kernelspec": {
   "display_name": "Python 3 (ipykernel)",
   "language": "python",
   "name": "python3"
  },
  "language_info": {
   "codemirror_mode": {
    "name": "ipython",
    "version": 3
   },
   "file_extension": ".py",
   "mimetype": "text/x-python",
   "name": "python",
   "nbconvert_exporter": "python",
   "pygments_lexer": "ipython3",
   "version": "3.9.12"
  }
 },
 "nbformat": 4,
 "nbformat_minor": 5
}
