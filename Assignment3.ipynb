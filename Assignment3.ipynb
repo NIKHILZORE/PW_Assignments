{
 "cells": [
  {
   "cell_type": "markdown",
   "id": "2a2a11e8",
   "metadata": {},
   "source": [
    "Q1) Write a code to reverse a string"
   ]
  },
  {
   "cell_type": "code",
   "execution_count": 2,
   "id": "dfce48e1",
   "metadata": {},
   "outputs": [
    {
     "name": "stdout",
     "output_type": "stream",
     "text": [
      "iabmum\n"
     ]
    }
   ],
   "source": [
    "a=\"mumbai\"\n",
    "print(a[::-1])"
   ]
  },
  {
   "cell_type": "markdown",
   "id": "14c6788c",
   "metadata": {},
   "source": [
    "_______________"
   ]
  },
  {
   "cell_type": "markdown",
   "id": "857cc736",
   "metadata": {},
   "source": [
    "Q2)  Write a code to count the number of vowels in a string\u0012"
   ]
  },
  {
   "cell_type": "code",
   "execution_count": 4,
   "id": "f23c9e04",
   "metadata": {},
   "outputs": [
    {
     "data": {
      "text/plain": [
       "3"
      ]
     },
     "execution_count": 4,
     "metadata": {},
     "output_type": "execute_result"
    }
   ],
   "source": [
    "count=0\n",
    "a=\"mumbai\"\n",
    "for i in a:\n",
    "    if i==\"a\"or i==\"e\"or i==\"i\"or i==\"o\"or i==\"u\":\n",
    "        count+=1\n",
    "count"
   ]
  },
  {
   "cell_type": "markdown",
   "id": "c752a70a",
   "metadata": {},
   "source": [
    "____________"
   ]
  },
  {
   "cell_type": "markdown",
   "id": "23341cbc",
   "metadata": {},
   "source": [
    "Q3) Write a code to check if a given string is a palindrome or not\n"
   ]
  },
  {
   "cell_type": "code",
   "execution_count": 7,
   "id": "420ad993",
   "metadata": {},
   "outputs": [
    {
     "name": "stdout",
     "output_type": "stream",
     "text": [
      "palindrome\n"
     ]
    }
   ],
   "source": [
    "a=\"xyzyzyx\"\n",
    "if a[::1]==a[::-1]:\n",
    "    print(\"palindrome\")\n",
    "else:\n",
    "    print(\"not\")"
   ]
  },
  {
   "cell_type": "markdown",
   "id": "d9cf04f8",
   "metadata": {},
   "source": [
    "____"
   ]
  },
  {
   "cell_type": "markdown",
   "id": "f04d7d5c",
   "metadata": {},
   "source": [
    "Q4) Write a code to check if two given strings are anagrams of each other"
   ]
  },
  {
   "cell_type": "code",
   "execution_count": 9,
   "id": "e17bf9d7",
   "metadata": {},
   "outputs": [
    {
     "name": "stdout",
     "output_type": "stream",
     "text": [
      "anagram\n"
     ]
    }
   ],
   "source": [
    "a=\"python\"\n",
    "b=\"typhon\"\n",
    "for i in a :\n",
    "    if i in b:\n",
    "        x=True\n",
    "for j in b:\n",
    "    if j in a :\n",
    "        y=True\n",
    "if x and y == True:\n",
    "    print(\"anagram\")\n",
    "    "
   ]
  },
  {
   "cell_type": "markdown",
   "id": "9822da3f",
   "metadata": {},
   "source": [
    "_____________"
   ]
  },
  {
   "cell_type": "markdown",
   "id": "b7d34634",
   "metadata": {},
   "source": [
    "Q5 Write a code to find all occurrences of a given substring within another string\n",
    "\n",
    "# the string is like this :\n",
    "string=\"Mumbai is a vibrant city known for its bustling lifestyle and rich cultural heritage. Mumbai is often referred to as the \"City of Dreams\" because many come to Mumbai to pursue careers in film, finance, and technology. Located on the western coast of India, Mumbai is the capital of Maharashtra and the financial hub of the country. Mumbai is home to Bollywood, India's famous film industry, as well as numerous historical sites, like the Gateway of India and the Chhatrapati Shivaji Maharaj Terminus. With a diverse population and iconic landmarks, Mumbai remains a city full of energy and endless opportunities.\""
   ]
  },
  {
   "cell_type": "code",
   "execution_count": 8,
   "id": "09412fe7",
   "metadata": {},
   "outputs": [
    {
     "name": "stdout",
     "output_type": "stream",
     "text": [
      "The sub-string mum has occured 6 times in the entire string.\n"
     ]
    }
   ],
   "source": [
    "count=0\n",
    "a=\"mum\"\n",
    "string=\"Mumbai is a vibrant city known for its bustling lifestyle and rich cultural heritage. Mumbai is often referred to as the City of Dreams because many come to Mumbai to pursue careers in film, finance, and technology. Located on the western coast of India, Mumbai is the capital of Maharashtra and the financial hub of the country. Mumbai is home to Bollywood, India's famous film industry, as well as numerous historical sites, like the Gateway of India and the Chhatrapati Shivaji Maharaj Terminus. With a diverse population and iconic landmarks, Mumbai remains a city full of energy and endless opportunities.\"\n",
    "string=string.lower()\n",
    "for i in range(len(string)-3):\n",
    "    if string[i:i+3]==a:\n",
    "        count+=1\n",
    "print(f\"The sub-string {a} has occured {count} times in the entire string.\")"
   ]
  },
  {
   "cell_type": "markdown",
   "id": "33fa66ad",
   "metadata": {},
   "source": [
    "____________"
   ]
  },
  {
   "cell_type": "markdown",
   "id": "39050180",
   "metadata": {},
   "source": [
    "Q6) Write a code to perform basic string compression using the counts of repeated characters"
   ]
  },
  {
   "cell_type": "code",
   "execution_count": 9,
   "id": "4f5e1291",
   "metadata": {},
   "outputs": [
    {
     "name": "stdout",
     "output_type": "stream",
     "text": [
      "a4b2c1d5\n"
     ]
    }
   ],
   "source": [
    "counta=0\n",
    "countb=0\n",
    "countc=0\n",
    "countd=0\n",
    "s=\"aaaabbcddddd\"\n",
    "for i in s:\n",
    "    if i==\"a\":\n",
    "        counta+=1\n",
    "    elif i==\"b\":\n",
    "        countb+=1\n",
    "    elif i==\"c\":\n",
    "        countc+=1\n",
    "    else:\n",
    "        countd+=1\n",
    "print(f\"a{counta}b{countb}c{countc}d{countd}\")"
   ]
  },
  {
   "cell_type": "markdown",
   "id": "8c70646b",
   "metadata": {},
   "source": [
    "___________"
   ]
  },
  {
   "cell_type": "markdown",
   "id": "bfc70f0e",
   "metadata": {},
   "source": [
    "Q7)  Write a code to determine if a string has all unique characters"
   ]
  },
  {
   "cell_type": "code",
   "execution_count": 24,
   "id": "434f5917",
   "metadata": {},
   "outputs": [
    {
     "name": "stdout",
     "output_type": "stream",
     "text": [
      "not unique\n"
     ]
    }
   ],
   "source": [
    "s=\"abbcd\"\n",
    "for i in s:\n",
    "    count=0\n",
    "    for j in s :\n",
    "        if i==j:\n",
    "            count+=1\n",
    "    if count>1:\n",
    "        print(\"not unique\")\n",
    "        break\n",
    "else:\n",
    "    print(\"unique\")\n",
    "        "
   ]
  },
  {
   "cell_type": "markdown",
   "id": "c4893b96",
   "metadata": {},
   "source": [
    "_____________"
   ]
  },
  {
   "cell_type": "markdown",
   "id": "007a369b",
   "metadata": {},
   "source": [
    "Q8) Write a code to convert a given string to uppercase or lowercase"
   ]
  },
  {
   "cell_type": "code",
   "execution_count": 42,
   "id": "656b1b90",
   "metadata": {},
   "outputs": [
    {
     "name": "stdout",
     "output_type": "stream",
     "text": [
      "DOG\n"
     ]
    }
   ],
   "source": [
    "b=\"\"                      # if we dont use .upper()  function \n",
    "a=\"dog\"\n",
    "for i in a:\n",
    "    c=ord(i)-32\n",
    "    b=b+chr(c)\n",
    "print(b)\n",
    "    "
   ]
  },
  {
   "cell_type": "code",
   "execution_count": 43,
   "id": "39b49c6f",
   "metadata": {},
   "outputs": [
    {
     "name": "stdout",
     "output_type": "stream",
     "text": [
      "dog\n"
     ]
    }
   ],
   "source": [
    "b=\"\"                      # if we dont use .lower()  function \n",
    "a=\"DOG\"\n",
    "for i in a:\n",
    "    c=ord(i)+32\n",
    "    b=b+chr(c)\n",
    "print(b)"
   ]
  },
  {
   "cell_type": "markdown",
   "id": "f4f2fbc4",
   "metadata": {},
   "source": [
    "____"
   ]
  },
  {
   "cell_type": "markdown",
   "id": "d45ad278",
   "metadata": {},
   "source": [
    "Q9) Write a code to count the number of words in a string"
   ]
  },
  {
   "cell_type": "code",
   "execution_count": 13,
   "id": "bce23913",
   "metadata": {},
   "outputs": [
    {
     "name": "stdout",
     "output_type": "stream",
     "text": [
      "TOTAL WORDS ARE: 5\n"
     ]
    }
   ],
   "source": [
    "s=\"ME TO MYSELF:I LOVE YOU\"\n",
    "s1=s.split(\" \")\n",
    "count=0\n",
    "for i in range(len(s1)):\n",
    "    if len(s1[i])>1:\n",
    "        count+=1\n",
    "print(f\"TOTAL WORDS ARE: {count}\")"
   ]
  },
  {
   "cell_type": "markdown",
   "id": "5b9dce97",
   "metadata": {},
   "source": [
    "____"
   ]
  },
  {
   "cell_type": "markdown",
   "id": "07fd8061",
   "metadata": {},
   "source": [
    "Q10) Write a code to concatenate two strings without using the + operator"
   ]
  },
  {
   "cell_type": "code",
   "execution_count": 3,
   "id": "b23f1b48",
   "metadata": {},
   "outputs": [
    {
     "name": "stdout",
     "output_type": "stream",
     "text": [
      "waterbell\n"
     ]
    }
   ],
   "source": [
    "a=\"water\"\n",
    "b=\"bell\"\n",
    "a=a.replace(a[-1],a[-1]+b)\n",
    "print(a)"
   ]
  },
  {
   "cell_type": "markdown",
   "id": "ac84c100",
   "metadata": {},
   "source": [
    "___"
   ]
  },
  {
   "cell_type": "markdown",
   "id": "6727d67d",
   "metadata": {},
   "source": [
    "Q11)Write a code to remove all occurrences of a specific element from a list"
   ]
  },
  {
   "cell_type": "code",
   "execution_count": 30,
   "id": "68556eaf",
   "metadata": {},
   "outputs": [
    {
     "name": "stdout",
     "output_type": "stream",
     "text": [
      "STRING BEFORE:  Mumbai is a vibrant city known for its bustling lifestyle and rich cultural heritage. Mumbai is often referred to as the City of Dreams because many come to Mumbai to pursue careers in film, finance, and technology.\n",
      "\n",
      "AFETR : is a vibrant city known for its bustling lifestyle and rich cultural heritage.  is often referred to as the City of Dreams because many come to  to pursue careers in film, finance, and technology.\n"
     ]
    }
   ],
   "source": [
    "s=\"Mumbai is a vibrant city known for its bustling lifestyle and rich cultural heritage. Mumbai is often referred to as the City of Dreams because many come to Mumbai to pursue careers in film, finance, and technology.\"\n",
    "print(\"STRING BEFORE: \",s)\n",
    "delete=\"Mumbai\"\n",
    "s=s.replace(delete,\"\")\n",
    "s=s.strip()\n",
    "print(\"\")\n",
    "print(\"AFETR :\",s)"
   ]
  },
  {
   "cell_type": "markdown",
   "id": "fec76bcd",
   "metadata": {},
   "source": [
    "____"
   ]
  },
  {
   "cell_type": "markdown",
   "id": "a78f1e1f",
   "metadata": {},
   "source": [
    "Q12) Implement a code to find the second largest number in a given list of integers"
   ]
  },
  {
   "cell_type": "code",
   "execution_count": 35,
   "id": "ad82cb29",
   "metadata": {},
   "outputs": [
    {
     "name": "stdout",
     "output_type": "stream",
     "text": [
      "LIST:  [18, 9, 5, 15, 12]\n",
      "SECOND LARGEST NUMBER:  15\n"
     ]
    }
   ],
   "source": [
    "l=[18,9,5,15,12]\n",
    "print(\"LIST: \",l)\n",
    "l.sort()\n",
    "print(\"SECOND LARGEST NUMBER: \",l[-2])"
   ]
  },
  {
   "cell_type": "markdown",
   "id": "3acc8b2a",
   "metadata": {},
   "source": [
    "____"
   ]
  },
  {
   "cell_type": "markdown",
   "id": "c8bbcc73",
   "metadata": {},
   "source": [
    "Q13) Create a code to count the occurrences of each element in a list and return a dictionary with elements as\n",
    "keys and their counts as values"
   ]
  },
  {
   "cell_type": "code",
   "execution_count": null,
   "id": "21841747",
   "metadata": {},
   "outputs": [],
   "source": [
    "l=[2,3,4,5,6,7,8,9,5,1,3,5,8,4,5,2,5,8,4,1]\n",
    "print(\"LIST: \",l)\n",
    "already_visited=[]\n",
    "ele_count=[]\n",
    "d={}\n",
    "for i in range(len(l)):\n",
    "    if l[i] not in already_visited:\n",
    "        already_visited.append(l[i])\n",
    "        ele_count.append(l.count(l[i]))\n",
    "d={av:ec for av,ec in zip(already_visited,ele_count)}\n",
    "print(\"COUNT OF EACH ELEMENT:\",d)"
   ]
  },
  {
   "cell_type": "markdown",
   "id": "b1132189",
   "metadata": {},
   "source": [
    "_____"
   ]
  },
  {
   "cell_type": "markdown",
   "id": "cbee0b87",
   "metadata": {},
   "source": [
    "Q14) Write a code to reverse a list in-place without using any built-in reverse functions\n"
   ]
  },
  {
   "cell_type": "code",
   "execution_count": 59,
   "id": "aad92325",
   "metadata": {},
   "outputs": [
    {
     "name": "stdout",
     "output_type": "stream",
     "text": [
      "BEFORE REVERSED:  [65, 5, 9, 7, 8, 4, 6, 1]\n",
      "REVERSED LIST:  [1, 6, 4, 8, 7, 9, 5, 65]\n"
     ]
    }
   ],
   "source": [
    "l=[65,5,9,7,8,4,6,1]\n",
    "print(\"BEFORE REVERSED: \",l)\n",
    "print(\"REVERSED LIST: \",l[::-1])"
   ]
  },
  {
   "cell_type": "markdown",
   "id": "451bb85a",
   "metadata": {},
   "source": [
    "___"
   ]
  },
  {
   "cell_type": "markdown",
   "id": "595f0ffb",
   "metadata": {},
   "source": [
    "Q15) Implement a code to find and remove duplicates from a list while preserving the original order of\n",
    "elements"
   ]
  },
  {
   "cell_type": "code",
   "execution_count": 38,
   "id": "1ce611e3",
   "metadata": {},
   "outputs": [
    {
     "name": "stdout",
     "output_type": "stream",
     "text": [
      "ORIGINAL LIST:  [1, 1, 2, 2, 3, 3, 4, 4, 5, 6]\n",
      "UNIQUE LIST:  [1, 2, 3, 4, 5, 6]\n"
     ]
    }
   ],
   "source": [
    "lo=[1,1,2,2,3,3,4,4,5,6]\n",
    "print(\"ORIGINAL LIST: \",lo)\n",
    "lu=[]\n",
    "for i in range(len(lo)):\n",
    "    e=lo[i]\n",
    "    if e not in lu:\n",
    "        lu.append(e)\n",
    "        \n",
    "print(\"UNIQUE LIST: \",lu)"
   ]
  },
  {
   "cell_type": "markdown",
   "id": "8ab237ea",
   "metadata": {},
   "source": [
    "___________"
   ]
  },
  {
   "cell_type": "markdown",
   "id": "884a0710",
   "metadata": {},
   "source": [
    "Q16) Create a code to check if a given list is sorted (either in ascending or descending order) or not.\n",
    "\n"
   ]
  },
  {
   "cell_type": "code",
   "execution_count": 15,
   "id": "43708440",
   "metadata": {},
   "outputs": [
    {
     "name": "stdout",
     "output_type": "stream",
     "text": [
      "LIST IS:  [1, 3, 6, 2, 5, 8, 5]\n",
      "NOT SORTED\n"
     ]
    }
   ],
   "source": [
    "l=[1,3,6,2,5,8,5]\n",
    "print(\"LIST IS: \",l)\n",
    "if l[len(l)//2-1] <l[len(l)//2] and l[len(l)//2]<l[len(l)//2+1]:\n",
    "    print(\"LIST IS SORTED in ASCENDING \")\n",
    "else:\n",
    "    print(\"NOT SORTED\")"
   ]
  },
  {
   "cell_type": "markdown",
   "id": "bc72bbce",
   "metadata": {},
   "source": [
    "___"
   ]
  },
  {
   "cell_type": "markdown",
   "id": "db93d724",
   "metadata": {},
   "source": [
    "Q17) Write a code to merge two sorted lists into a single sorted list"
   ]
  },
  {
   "cell_type": "code",
   "execution_count": 18,
   "id": "b6dda5f8",
   "metadata": {},
   "outputs": [
    {
     "name": "stdout",
     "output_type": "stream",
     "text": [
      "LIST1:  [1, 6, 3, 7, 8, 4]\n",
      "LIST2:  [2, 5, 9, 10]\n",
      "SORTED MERGED LIST:  [1, 2, 3, 4, 5, 6, 7, 8, 9, 10]\n"
     ]
    }
   ],
   "source": [
    "l1=[1,6,3,7,8,4]\n",
    "l2=[2,5,9,10]\n",
    "print(\"LIST1: \",l1)\n",
    "print(\"LIST2: \",l2)\n",
    "l3=l1+l2\n",
    "l3=sorted(l3)\n",
    "print(\"SORTED MERGED LIST: \",l3)"
   ]
  },
  {
   "cell_type": "markdown",
   "id": "8defb03a",
   "metadata": {},
   "source": [
    "____"
   ]
  },
  {
   "cell_type": "markdown",
   "id": "9df93bef",
   "metadata": {},
   "source": [
    "Q18) Implement a code to find the intersection of two given lists"
   ]
  },
  {
   "cell_type": "code",
   "execution_count": 27,
   "id": "72f96e6e",
   "metadata": {},
   "outputs": [
    {
     "name": "stdout",
     "output_type": "stream",
     "text": [
      "LIST1:  [1, 6, 3, 7, 8, 4]\n",
      "LIST2:  [2, 5, 9, 10]\n",
      "INSECTION IS:  []\n"
     ]
    }
   ],
   "source": [
    "l1=[1,6,3,7,8,4]\n",
    "l2=[2,5,9,10]\n",
    "print(\"LIST1: \",l1)\n",
    "print(\"LIST2: \",l2)\n",
    "l1=set(l1)\n",
    "l2=set(l2)\n",
    "r=l1&l2\n",
    "r=list(r)\n",
    "print(\"INSECTION IS: \",r)"
   ]
  },
  {
   "cell_type": "markdown",
   "id": "487b5ff0",
   "metadata": {},
   "source": [
    "____"
   ]
  },
  {
   "cell_type": "markdown",
   "id": "1e7bea2e",
   "metadata": {},
   "source": [
    "Q19) Create a code to find the union of two lists without duplicates"
   ]
  },
  {
   "cell_type": "code",
   "execution_count": 28,
   "id": "3332a4a4",
   "metadata": {},
   "outputs": [
    {
     "name": "stdout",
     "output_type": "stream",
     "text": [
      "LIST1:  [1, 6, 3, 7, 8, 4]\n",
      "LIST2:  [2, 5, 9, 10]\n",
      "UNION IS:  [1, 2, 3, 4, 5, 6, 7, 8, 9, 10]\n"
     ]
    }
   ],
   "source": [
    "l1=[1,6,3,7,8,4]\n",
    "l2=[2,5,9,10]\n",
    "print(\"LIST1: \",l1)\n",
    "print(\"LIST2: \",l2)\n",
    "l1=set(l1)\n",
    "l2=set(l2)\n",
    "r=l1|l2\n",
    "r=list(r)\n",
    "print(\"UNION IS: \",r)"
   ]
  },
  {
   "cell_type": "markdown",
   "id": "344e6f25",
   "metadata": {},
   "source": [
    "____"
   ]
  },
  {
   "cell_type": "markdown",
   "id": "84f0dc8e",
   "metadata": {},
   "source": [
    "Q20) Write a code to shuffle a given list randomly without using any built-in shuffle functions"
   ]
  },
  {
   "cell_type": "code",
   "execution_count": 4,
   "id": "83cc52d5",
   "metadata": {},
   "outputs": [
    {
     "data": {
      "text/plain": [
       "[3, 0, 3, 1, 2]"
      ]
     },
     "execution_count": 4,
     "metadata": {},
     "output_type": "execute_result"
    }
   ],
   "source": [
    "# CODE TO USE RANDOM (FOR MY USE)\n",
    "import random as rand\n",
    "lc=[]\n",
    "for i in range(5):\n",
    "    lc.append(rand.randint(0,4))\n",
    "    \n",
    "lc"
   ]
  },
  {
   "cell_type": "code",
   "execution_count": 2,
   "id": "aa33f327",
   "metadata": {},
   "outputs": [
    {
     "name": "stdout",
     "output_type": "stream",
     "text": [
      "1\n",
      "3\n",
      "after change\n",
      "3\n",
      "1\n"
     ]
    }
   ],
   "source": [
    "l=[1,2,3,4,5]\n",
    "print(l[0])\n",
    "print(l[2])\n",
    "l[0],l[2]=l[2],l[0]\n",
    "print(\"after change\")\n",
    "print(l[0])\n",
    "print(l[2])"
   ]
  },
  {
   "cell_type": "code",
   "execution_count": 24,
   "id": "e095d14c",
   "metadata": {},
   "outputs": [
    {
     "name": "stdout",
     "output_type": "stream",
     "text": [
      "[3, 5, 1, 2, 4]\n"
     ]
    }
   ],
   "source": [
    "# CODE FOR QUESTION \n",
    "list_shuffle=[]\n",
    "i=0\n",
    "while i in range(5):\n",
    "    e=rand.randint(0,4)\n",
    "    if e not in list_shuffle:\n",
    "        list_shuffle.append(e)\n",
    "        i+=1\n",
    "list_shuffle\n",
    "\n",
    "list_change=[1,2,3,4,5]\n",
    "for i in range(len(list_shuffle)):\n",
    "    e=list_shuffle[i]\n",
    "    if i !=e:\n",
    "        list_change[i],list_change[e]=list_change[e],list_change[i]\n",
    "        \n",
    "print(list_change)\n",
    "    "
   ]
  },
  {
   "cell_type": "markdown",
   "id": "9d1cc2e8",
   "metadata": {},
   "source": [
    "_____________"
   ]
  },
  {
   "cell_type": "markdown",
   "id": "a6eb1277",
   "metadata": {},
   "source": [
    "Q21 Write a code that takes two tuples as input and returns a new tuple containing elements that are\n",
    "common to both input tuples"
   ]
  },
  {
   "cell_type": "code",
   "execution_count": 9,
   "id": "1779ec04",
   "metadata": {},
   "outputs": [
    {
     "name": "stdout",
     "output_type": "stream",
     "text": [
      "ENTER LENGTH TUPLE1 : 2\n",
      "ENTER ELEMENT 1: 1\n",
      "ENTER ELEMENT 2: 2\n",
      "TUPLE1:  [1, 2]\n",
      "ENTER LENGTH TUPLE2 : 3\n",
      "ENTER ELEMENT 1: 3\n",
      "ENTER ELEMENT 2: 2\n",
      "ENTER ELEMENT 3: 1\n",
      "TUPLE2:  [3, 2, 1]\n",
      "COMMON ELEMENTS:  (1, 2)\n"
     ]
    }
   ],
   "source": [
    "n=int(input(\"ENTER LENGTH TUPLE1 : \"))\n",
    "t1=[]\n",
    "t2=[]\n",
    "for i in range(n):\n",
    "    t1.append(int(input(f\"ENTER ELEMENT {i+1}: \")))\n",
    "print(\"TUPLE1: \",t1)\n",
    "t1=set(t1)\n",
    "m=int(input(\"ENTER LENGTH TUPLE2 : \"))\n",
    "for i in range(m):\n",
    "    t2.append(int(input(f\"ENTER ELEMENT {i+1}: \")))\n",
    "print(\"TUPLE2: \",t2)\n",
    "t2=set(t2)\n",
    "r=t1&t2\n",
    "r=tuple(r)\n",
    "print(\"COMMON ELEMENTS: \",r)"
   ]
  },
  {
   "cell_type": "markdown",
   "id": "c123f53b",
   "metadata": {},
   "source": [
    "____"
   ]
  },
  {
   "cell_type": "markdown",
   "id": "1d012ab7",
   "metadata": {},
   "source": [
    "Q22) Create a code that prompts the user to enter two sets of integers separated by commas. Then, print the\n",
    "intersection of these two sets"
   ]
  },
  {
   "cell_type": "code",
   "execution_count": 17,
   "id": "9afde4b5",
   "metadata": {},
   "outputs": [
    {
     "name": "stdout",
     "output_type": "stream",
     "text": [
      "ENTER INTEGERS SEP BY ',' FOR SET 1: 1,2,3,4,5,6\n",
      "{'4', '6', '5', '2', '1', '3'}\n",
      "ENTER INTEGERS SEP BY ',' FOR SET 2: 9,8,7,6,5,4,3\n",
      "{'4', '5', '9', '6', '7', '8', '3'}\n",
      "COMMON ELEMENTS ARE:  {'4', '6', '3', '5'}\n"
     ]
    }
   ],
   "source": [
    "s1=input(\"ENTER INTEGERS SEP BY ',' FOR SET 1: \")\n",
    "s1=set(s1)\n",
    "s1.remove(\",\")\n",
    "print(s1)\n",
    "s2=input(\"ENTER INTEGERS SEP BY ',' FOR SET 2: \")\n",
    "s2=set(s2)\n",
    "s2.remove(\",\")\n",
    "print(s2)\n",
    "print(\"COMMON ELEMENTS ARE: \",s1&s2)"
   ]
  },
  {
   "cell_type": "markdown",
   "id": "fe685c32",
   "metadata": {},
   "source": [
    "____"
   ]
  },
  {
   "cell_type": "markdown",
   "id": "9b558409",
   "metadata": {},
   "source": [
    "Q23)Write a code to concatenate two tuples. The function should take two tuples as input and return a new\n",
    "tuple containing elements from both input tuples."
   ]
  },
  {
   "cell_type": "code",
   "execution_count": 22,
   "id": "a24eb545",
   "metadata": {},
   "outputs": [
    {
     "name": "stdout",
     "output_type": "stream",
     "text": [
      "ENTER LENGTH TUPLE1 : 5\n",
      "ENTER ELEMENT 1: 1\n",
      "ENTER ELEMENT 2: 2\n",
      "ENTER ELEMENT 3: 3\n",
      "ENTER ELEMENT 4: 4\n",
      "ENTER ELEMENT 5: 5\n",
      "TUPLE1:  [1, 2, 3, 4, 5]\n",
      "ENTER LENGTH TUPLE2 : 5\n",
      "ENTER ELEMENT 1: 6\n",
      "ENTER ELEMENT 2: 7\n",
      "ENTER ELEMENT 3: 8\n",
      "ENTER ELEMENT 4: 9\n",
      "ENTER ELEMENT 5: 10\n",
      "TUPLE2:  [6, 7, 8, 9, 10]\n",
      "COMBINE TUPLE:  (1, 2, 3, 4, 5, 6, 7, 8, 9, 10)\n"
     ]
    }
   ],
   "source": [
    "n=int(input(\"ENTER LENGTH TUPLE1 : \"))\n",
    "t1=[]\n",
    "t2=[]\n",
    "for i in range(n):\n",
    "    t1.append(int(input(f\"ENTER ELEMENT {i+1}: \")))\n",
    "print(\"TUPLE1: \",t1)\n",
    "t1=tuple(t1)\n",
    "m=int(input(\"ENTER LENGTH TUPLE2 : \"))\n",
    "for i in range(m):\n",
    "    t2.append(int(input(f\"ENTER ELEMENT {i+1}: \")))\n",
    "print(\"TUPLE2: \",t2)\n",
    "t2=tuple(t2)\n",
    "r=t1+t2\n",
    "r=tuple(r)\n",
    "print(\"COMBINE TUPLE: \",r)"
   ]
  },
  {
   "cell_type": "markdown",
   "id": "f494030f",
   "metadata": {},
   "source": [
    "____"
   ]
  },
  {
   "cell_type": "markdown",
   "id": "8d125a92",
   "metadata": {},
   "source": [
    "Q24)  Develop a code that prompts the user to input two sets of strings. Then, print the elements that are\n",
    "present in the first set but not in the second set"
   ]
  },
  {
   "cell_type": "code",
   "execution_count": 29,
   "id": "4362458f",
   "metadata": {},
   "outputs": [
    {
     "name": "stdout",
     "output_type": "stream",
     "text": [
      "ENTER STRING 1: my name is nikhil\n",
      "ENTER STRING 2: my name is sumit\n",
      "my name is nikhil\n",
      "my name is sumit\n",
      "Elements that are present in the first set but not in the second set {'h', 'k', 'l'}\n"
     ]
    }
   ],
   "source": [
    "s1=input(\"ENTER STRING 1: \")\n",
    "s2=input(\"ENTER STRING 2: \")\n",
    "s1.split(\" \")\n",
    "s2.split(\" \")\n",
    "print(s1)\n",
    "print(s2)\n",
    "s1=set(s1)\n",
    "s2=set(s2)\n",
    "print(\"Elements that are present in the first set but not in the second set\",s1-s2)"
   ]
  },
  {
   "cell_type": "markdown",
   "id": "b1caf0b9",
   "metadata": {},
   "source": [
    "_____"
   ]
  },
  {
   "cell_type": "markdown",
   "id": "5cb8c135",
   "metadata": {},
   "source": [
    "Q25) Create a code that takes a tuple and two integers as input. The function should return a new tuple\n",
    "containing elements from the original tuple within the specified range of indices\n",
    "\n"
   ]
  },
  {
   "cell_type": "code",
   "execution_count": 33,
   "id": "f732120b",
   "metadata": {},
   "outputs": [
    {
     "name": "stdout",
     "output_type": "stream",
     "text": [
      "ENTER START RANGE: 2\n",
      "ENTER END RANGE: 5\n",
      "THE SPECFIED RANGE:  (3, 4, 5)\n"
     ]
    }
   ],
   "source": [
    "t=(1,2,3,4,5,6,7,8)\n",
    "n=int(input(\"ENTER START RANGE: \"))\n",
    "m=int(input(\"ENTER END RANGE: \"))\n",
    "def show(t,n,m):\n",
    "    if n >len(t)|m>len(t):\n",
    "        print(\"OUT OF RANGE..\")\n",
    "    print(\"THE SPECFIED RANGE: \",t[n:m])\n",
    "    \n",
    "show(t,n,m)"
   ]
  },
  {
   "cell_type": "markdown",
   "id": "3bf2490e",
   "metadata": {},
   "source": [
    "_______"
   ]
  },
  {
   "cell_type": "markdown",
   "id": "8efa61ed",
   "metadata": {},
   "source": [
    "Q26) Write a code that prompts the user to input two sets of characters. Then, print the union of these two sets"
   ]
  },
  {
   "cell_type": "code",
   "execution_count": 1,
   "id": "4dc6b636",
   "metadata": {},
   "outputs": [
    {
     "name": "stdout",
     "output_type": "stream",
     "text": [
      "ENTER LENGTH SET1 : 8\n",
      "ENTER ELEMENT 1: a\n",
      "ENTER ELEMENT 2: b\n",
      "ENTER ELEMENT 3: c\n",
      "ENTER ELEMENT 4: d\n",
      "ENTER ELEMENT 5: e\n",
      "ENTER ELEMENT 6: f\n",
      "ENTER ELEMENT 7: g\n",
      "ENTER ELEMENT 8: h\n",
      "SET1:  {'f', 'b', 'e', 'h', 'a', 'd', 'g', 'c'}\n",
      "ENTER LENGTH SET2 : 5\n",
      "ENTER ELEMENT 1: a\n",
      "ENTER ELEMENT 2: e\n",
      "ENTER ELEMENT 3: i\n",
      "ENTER ELEMENT 4: o\n",
      "ENTER ELEMENT 5: u\n",
      "SET2:  {'u', 'e', 'o', 'a', 'i'}\n",
      "COMBINE ELEMENTS:  ('f', 'b', 'e', 'u', 'h', 'o', 'a', 'i', 'd', 'g', 'c')\n"
     ]
    }
   ],
   "source": [
    "s1={}\n",
    "s2={}\n",
    "s1=set(s1)\n",
    "s2=set(s2)\n",
    "n=int(input(\"ENTER LENGTH SET1 : \"))\n",
    "for i in range(n):\n",
    "    s1.add(input(f\"ENTER ELEMENT {i+1}: \"))\n",
    "print(\"SET1: \",s1)\n",
    "m=int(input(\"ENTER LENGTH SET2 : \"))\n",
    "for i in range(m):\n",
    "    s2.add(input(f\"ENTER ELEMENT {i+1}: \"))\n",
    "print(\"SET2: \",s2)\n",
    "r=s1|s2\n",
    "r=tuple(r)\n",
    "print(\"COMBINE ELEMENTS: \",r)"
   ]
  },
  {
   "cell_type": "markdown",
   "id": "2670d0f3",
   "metadata": {},
   "source": [
    "___"
   ]
  },
  {
   "cell_type": "markdown",
   "id": "01d0ce40",
   "metadata": {},
   "source": [
    " Q27) Develop a code that takes a tuple of integers as input. The function should return the maximum and\n",
    " minimum values from the tuple using tuple unpacking"
   ]
  },
  {
   "cell_type": "code",
   "execution_count": 12,
   "id": "660f8caf",
   "metadata": {},
   "outputs": [
    {
     "name": "stdout",
     "output_type": "stream",
     "text": [
      "Enter the elements of the first tuple separated by spaces: 1 2 3 4 \n",
      "ENTERED TUPLE:  (1, 2, 3, 4)\n",
      "MAX ELEMENT:  4\n"
     ]
    }
   ],
   "source": [
    "t = tuple(map(int, input(\"Enter the elements of the first tuple separated by spaces: \").split()))\n",
    "print(\"ENTERED TUPLE: \",t)\n",
    "m=list(t)\n",
    "print(\"MAX ELEMENT: \",max(m))\n"
   ]
  },
  {
   "cell_type": "markdown",
   "id": "2141e872",
   "metadata": {},
   "source": [
    "_____________"
   ]
  },
  {
   "cell_type": "markdown",
   "id": "08339b1e",
   "metadata": {},
   "source": [
    "Q28) Create a code that defines two sets of integers. Then, print the union, intersection, and difference of these\n",
    "two sets"
   ]
  },
  {
   "cell_type": "code",
   "execution_count": 18,
   "id": "eebf08fa",
   "metadata": {},
   "outputs": [
    {
     "name": "stdout",
     "output_type": "stream",
     "text": [
      "Enter the elements of the first tuple separated by spaces: 1 2 3 4 5 6 7\n",
      "Enter the elements of the first tuple separated by spaces: 9 7 457 3 23 12 3 7\n",
      "SET1 {1, 2, 3, 4, 5, 6, 7}\n",
      "SET2 {3, 7, 9, 457, 12, 23}\n",
      "UNION:  {1, 2, 3, 4, 5, 6, 7, 9, 457, 12, 23}\n",
      "INTERSECTION:  {3, 7}\n",
      "DIFFERENCE1:  {1, 2, 4, 5, 6}\n",
      "DIFFERENCE2:  {9, 457, 12, 23}\n"
     ]
    }
   ],
   "source": [
    "s1 = set(map(int,input(\"Enter the elements of the first tuple separated by spaces: \").split()))\n",
    "s2 = set(map(int,input(\"Enter the elements of the first tuple separated by spaces: \").split()))    # * second tuple will come\n",
    "print(\"SET1\",s1)\n",
    "print(\"SET2\",s2)\n",
    "print(\"UNION: \" ,s1|s2)\n",
    "print(\"INTERSECTION: \",s1&s2)\n",
    "print(\"DIFFERENCE1: \",s1-s2)\n",
    "print(\"DIFFERENCE2: \",s2-s1)"
   ]
  },
  {
   "cell_type": "markdown",
   "id": "d40518e2",
   "metadata": {},
   "source": [
    "______"
   ]
  },
  {
   "cell_type": "markdown",
   "id": "18769297",
   "metadata": {},
   "source": [
    "Q29) Write a code that takes a tuple and an element as input. The function should return the count of\n",
    "occurrences of the given element in the tuple"
   ]
  },
  {
   "cell_type": "code",
   "execution_count": 20,
   "id": "d3901535",
   "metadata": {},
   "outputs": [
    {
     "name": "stdout",
     "output_type": "stream",
     "text": [
      "Enter the elements of the first tuple separated by spaces: 1 2 3 4 3 2 3 6 4 6 78 5 3 6 43\n",
      "ENTER ELEMENT: 3\n",
      "THE COUNT OF 3 IS : 4\n"
     ]
    }
   ],
   "source": [
    "s = tuple(map(int,input(\"Enter the elements of the first tuple separated by spaces: \").split()))\n",
    "n=int(input((\"ENTER ELEMENT: \")))\n",
    "if n in s:\n",
    "    print(f\"THE COUNT OF {n} IS :\",s.count(n))\n",
    "else:\n",
    "    print(f\"{n} NOT PRESENT IN TUPLE\")\n"
   ]
  },
  {
   "cell_type": "markdown",
   "id": "8777be27",
   "metadata": {},
   "source": [
    "_________"
   ]
  },
  {
   "cell_type": "markdown",
   "id": "84ca2451",
   "metadata": {},
   "source": [
    "Q30) Develop a code that prompts the user to input two sets of strings. Then, print the symmetric difference of\n",
    "these two sets"
   ]
  },
  {
   "cell_type": "code",
   "execution_count": 24,
   "id": "4dadabbc",
   "metadata": {},
   "outputs": [
    {
     "name": "stdout",
     "output_type": "stream",
     "text": [
      "Enter the elements of the first tuple separated by spaces: n i k \n",
      "Enter the elements of the second tuple separated by spaces: h i l\n",
      "SET1:  {'n', 'k', 'i'}\n",
      "SET2:  {'i', 'l', 'h'}\n",
      "SYMMETRIC DIFFERENCE:  {'h', 'n', 'k', 'l'}\n"
     ]
    }
   ],
   "source": [
    "s1 = set(map(str,input(\"Enter the elements of the first tuple separated by spaces: \").split()))\n",
    "s2 = set(map(str,input(\"Enter the elements of the second tuple separated by spaces: \").split())) \n",
    "print(\"SET1: \",s1)\n",
    "print(\"SET2: \",s2)\n",
    "print(\"SYMMETRIC DIFFERENCE: \", s1^s2)"
   ]
  },
  {
   "cell_type": "markdown",
   "id": "f351241d",
   "metadata": {},
   "source": [
    "______________"
   ]
  },
  {
   "cell_type": "markdown",
   "id": "3f2ea292",
   "metadata": {},
   "source": [
    "Q31) Write a code that takes a list of words as input and returns a dictionary where the keys are unique words\n",
    "and the values are the frequencies of those words in the input list"
   ]
  },
  {
   "cell_type": "code",
   "execution_count": 30,
   "id": "541e3b10",
   "metadata": {},
   "outputs": [
    {
     "name": "stdout",
     "output_type": "stream",
     "text": [
      "ENTER WORDS SEPARATED BY SPACES: you me yours me \n",
      "INPUT LIST:  ['you', 'me', 'yours', 'me']\n"
     ]
    }
   ],
   "source": [
    "l=list(map(str,input(\"ENTER WORDS SEPARATED BY SPACES: \").split()))\n",
    "print(\"INPUT LIST: \",l)\n",
    "freq=[]\n",
    "visit=[]\n",
    "for i in range(len(l)):\n",
    "    if l[i] not in visit:\n",
    "        visit.append(l[i])\n",
    "        freq.append(l.count(l[i]))"
   ]
  },
  {
   "cell_type": "code",
   "execution_count": 33,
   "id": "9d140bcd",
   "metadata": {},
   "outputs": [
    {
     "name": "stdout",
     "output_type": "stream",
     "text": [
      "WORD COUNT IS:  {'you': 1, 'me': 2, 'yours': 1}\n"
     ]
    }
   ],
   "source": [
    "d={v:f for v,f in zip(visit,freq)}\n",
    "print(\"WORD COUNT IS: \",d)"
   ]
  },
  {
   "cell_type": "markdown",
   "id": "f1b618bd",
   "metadata": {},
   "source": [
    "___________"
   ]
  },
  {
   "cell_type": "markdown",
   "id": "c952fd22",
   "metadata": {},
   "source": [
    "Q32) Write a code that takes two dictionaries as input and merges them into a single dictionary. If there are\n",
    "common keys, the values should be added together"
   ]
  },
  {
   "cell_type": "code",
   "execution_count": 104,
   "id": "743b06db",
   "metadata": {},
   "outputs": [
    {
     "name": "stdout",
     "output_type": "stream",
     "text": [
      "MERGED DICTIONARY:  {'a': 1, 'b': 5, 'c': 7, 'd': 5}\n"
     ]
    }
   ],
   "source": [
    "def combine(dict1, dict2):\n",
    "    result = dict1.copy() \n",
    "    for key, value in dict2.items():\n",
    "        if key in result:\n",
    "            result[key] += value\n",
    "        else:\n",
    "            result[key] = value  \n",
    "    return result\n",
    "dict1 = {'a': 1, 'b': 2, 'c': 3}\n",
    "dict2 = {'b': 3, 'c': 4, 'd': 5}\n",
    "combined = combine(dict1, dict2)\n",
    "print(\"MERGED DICTIONARY: \",combined)"
   ]
  },
  {
   "cell_type": "markdown",
   "id": "70bc132e",
   "metadata": {},
   "source": [
    "_____________"
   ]
  },
  {
   "cell_type": "markdown",
   "id": "f3bb4019",
   "metadata": {},
   "source": [
    "Q33) Write a code to access a value in a nested dictionary. The function should take the dictionary and a list of\n",
    "keys as input, and return the corresponding value. If any of the keys do not exist in the dictionary, the\n",
    "function should return None"
   ]
  },
  {
   "cell_type": "code",
   "execution_count": 83,
   "id": "b58cd51e",
   "metadata": {},
   "outputs": [
    {
     "name": "stdout",
     "output_type": "stream",
     "text": [
      "one:  1\n",
      "two:  2\n",
      "three:  3\n",
      "six:  None\n"
     ]
    }
   ],
   "source": [
    "def return_value(dict,list):\n",
    "    for i in l:\n",
    "        if i in dict.keys():\n",
    "            print(f\"{i}: \",d[i])\n",
    "        else:\n",
    "            print(f\"{i}: \",None)\n",
    "        \n",
    "d={\"one\":1,\n",
    "  \"two\":2,\n",
    "  \"three\":3,\n",
    "  \"four\":4,\n",
    "  \"five\":5}\n",
    "l=[\"one\", \"two\", \"three\",\"six\"]\n",
    "return_value(d,l)"
   ]
  },
  {
   "cell_type": "markdown",
   "id": "81541ea5",
   "metadata": {},
   "source": [
    "_____"
   ]
  },
  {
   "cell_type": "markdown",
   "id": "4fb8e0fe",
   "metadata": {},
   "source": [
    "Q34) Write a code that takes a dictionary as input and returns a sorted version of it based on the values. You\n",
    "can choose whether to sort in ascending or descending order"
   ]
  },
  {
   "cell_type": "code",
   "execution_count": 123,
   "id": "be874201",
   "metadata": {},
   "outputs": [
    {
     "name": "stdout",
     "output_type": "stream",
     "text": [
      "ORIGINAL DICT:  {1: 'one', 2: 'two', 3: 'three', 4: 'four', 5: 'five'}\n",
      "SORTED DICT BASED ON VALES:  {5: 'five', 4: 'four', 1: 'one', 3: 'three', 2: 'two'}\n"
     ]
    }
   ],
   "source": [
    "d={1:\"one\",\n",
    "  2:\"two\",\n",
    "  3:\"three\",\n",
    "  4:\"four\",\n",
    "  5:\"five\"}\n",
    "def sort_dict(dict):\n",
    "    print(\"ORIGINAL DICT: \",d)\n",
    "    dum=d.copy()\n",
    "    dum={value:key for key, value in dum.items()}\n",
    "    # print(dum)\n",
    "    sort_key=sorted(dum.keys())\n",
    "    # print(sort_key)\n",
    "    sort_value=[]\n",
    "    for i in range(len(sort_key)):\n",
    "        sort_value.append(dum[sort_key[i]])\n",
    "\n",
    "    # print(sort_value)\n",
    "    sort_dict={k:v for k,v in zip(sort_value,sort_key) }\n",
    "    print(\"SORTED DICT BASED ON VALES: \",sort_dict)\n",
    "\n",
    "    \n",
    "sort_dict(d)"
   ]
  },
  {
   "cell_type": "markdown",
   "id": "4ff9b680",
   "metadata": {},
   "source": [
    "_________"
   ]
  },
  {
   "cell_type": "markdown",
   "id": "10a4d3ce",
   "metadata": {},
   "source": [
    "Q35) Write a code that inverts a dictionary, swapping keys and values. Ensure that the inverted dictionary\n",
    "correctly handles cases where multiple keys have the same value by storing the keys as a list in the\n",
    "inverted dictionary."
   ]
  },
  {
   "cell_type": "code",
   "execution_count": 159,
   "id": "45716ab6",
   "metadata": {},
   "outputs": [
    {
     "name": "stdout",
     "output_type": "stream",
     "text": [
      "ORIGINAL DICTIONARY: {'a': 1, 'b': 2, 'c': 1, 'd': 3, 'e': 2}\n",
      "IVERTED DICTIONARY: {1: ['a', 'c'], 2: ['b', 'e'], 3: ['d']}\n"
     ]
    }
   ],
   "source": [
    "d= {'a': 1,\n",
    "    'b': 2,\n",
    "    'c': 1,\n",
    "    'd': 3,\n",
    "    'e': 2}\n",
    "dswap= {}\n",
    "for key, value in d.items():\n",
    "    dswap.setdefault(value, []).append(key) #refered\n",
    "print(\"ORIGINAL DICTIONARY:\", d)\n",
    "print(\"IVERTED DICTIONARY:\", dswap)"
   ]
  },
  {
   "cell_type": "code",
   "execution_count": null,
   "id": "40839612",
   "metadata": {},
   "outputs": [],
   "source": []
  }
 ],
 "metadata": {
  "kernelspec": {
   "display_name": "Python 3 (ipykernel)",
   "language": "python",
   "name": "python3"
  },
  "language_info": {
   "codemirror_mode": {
    "name": "ipython",
    "version": 3
   },
   "file_extension": ".py",
   "mimetype": "text/x-python",
   "name": "python",
   "nbconvert_exporter": "python",
   "pygments_lexer": "ipython3",
   "version": "3.9.12"
  }
 },
 "nbformat": 4,
 "nbformat_minor": 5
}
