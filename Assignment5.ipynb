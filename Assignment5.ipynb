{
 "cells": [
  {
   "cell_type": "markdown",
   "id": "93c1ef0f",
   "metadata": {},
   "source": [
    " Q1) What are the five key concepts of Object-Oriented Programming (OOP)?"
   ]
  },
  {
   "cell_type": "markdown",
   "id": "2c39dbe5",
   "metadata": {},
   "source": [
    "The key components are as follows:\n",
    "\n",
    "1) CLASSES AND OBJ : classes are like templates for creating the objects whereas the objects are the entity through whch we can access the methods and attributes of the class.\n",
    "\n",
    "2) ABSTRACTION : 1]Abstraction refers to the hiding of unnecessary details from the end user and showing only whats important. 2] this can achive through the abstract class and methods 3]abstract need to be imported from abc module.\n",
    "\n",
    "3) ENCAPSULATION : 1]It refers to binding the data /attributes in a sigle entity.2] this can be achived dthrough access modifiers which are PUBLIC , PRIVATE , PROTECTED which allows the accessing of the data items at different levels.\n",
    "\n",
    "4) POLYMORPHISM: 1] Polymerphism refers to many forms , the obj takes different forms depend on the type of the data (eg) len function returns the lenght of string as well as a list only difference is the datatype is different. 2] Polymorphism is achive through 2 ways method overloading and method overriding (however python does not support method overloading)\n",
    "\n",
    "5) INHERITANCE: 1]It refers to child class inherting the methods , attributes of the  parent class. 2] this imparts resuability of the code 3] It is achived at different levels : Single, Multi level , Multiple ,Hybrid, Hierarchical Inheritances."
   ]
  },
  {
   "cell_type": "markdown",
   "id": "e630cecd",
   "metadata": {},
   "source": [
    "____"
   ]
  },
  {
   "cell_type": "markdown",
   "id": "9c051675",
   "metadata": {},
   "source": [
    "Q2)  Write a Python class for a `Car` with attributes for `make`, `model`, and `year`. Include a method to display\n",
    "the car's information."
   ]
  },
  {
   "cell_type": "code",
   "execution_count": 6,
   "id": "fe2bc772",
   "metadata": {},
   "outputs": [],
   "source": [
    "class Car:\n",
    "    make=\"HUNDAI\"\n",
    "    model=\"i20\"\n",
    "    year=2024\n",
    "    def car_info(self):\n",
    "        print(f'''CAR DETAILS ARE :\n",
    "        COMPANY: {self.make}\n",
    "        MODEL: {self.model}\n",
    "        YEAR: {self.year}\n",
    "        ''')\n",
    "\n",
    "c=Car()  # obj of the class.  "
   ]
  },
  {
   "cell_type": "code",
   "execution_count": 7,
   "id": "2afef961",
   "metadata": {},
   "outputs": [
    {
     "name": "stdout",
     "output_type": "stream",
     "text": [
      "CAR DETAILS ARE :\n",
      "        COMPANY: HUNDAI\n",
      "        MODEL: i20\n",
      "        YEAR: 2024\n",
      "        \n"
     ]
    }
   ],
   "source": [
    "c.car_info()"
   ]
  },
  {
   "cell_type": "markdown",
   "id": "d0d9d029",
   "metadata": {},
   "source": [
    "_______"
   ]
  },
  {
   "cell_type": "markdown",
   "id": "c978ebfd",
   "metadata": {},
   "source": [
    "Q3) Explain the difference between instance methods and class methods. Provide an example of each."
   ]
  },
  {
   "cell_type": "markdown",
   "id": "ca0843a8",
   "metadata": {},
   "source": [
    "Instance Methods\n",
    "\n",
    "1]Instance methods are the methods that operate on the instances of class and can access and modify the attributes of the instances . 2] these are defiend using the default parameter 'self' and and keyword 'def' 3] these are accessed using the syntax 'obj.method'\n"
   ]
  },
  {
   "cell_type": "code",
   "execution_count": 12,
   "id": "69a8949c",
   "metadata": {},
   "outputs": [],
   "source": [
    "class greet:\n",
    "    def greeter(self, name):\n",
    "        print(f\"GREETINGS {name}\")\n",
    "\n",
    "g1=greet()"
   ]
  },
  {
   "cell_type": "code",
   "execution_count": 13,
   "id": "698f1006",
   "metadata": {},
   "outputs": [
    {
     "name": "stdout",
     "output_type": "stream",
     "text": [
      "GREETINGS RAHUL\n"
     ]
    }
   ],
   "source": [
    "g1.greeter(\"RAHUL\")  # here greeter is a instance method , each instance has its own name and usses it to modify the method greeter"
   ]
  },
  {
   "cell_type": "code",
   "execution_count": 14,
   "id": "c0b83a96",
   "metadata": {},
   "outputs": [],
   "source": [
    "g2=greet()"
   ]
  },
  {
   "cell_type": "code",
   "execution_count": 16,
   "id": "5ea11929",
   "metadata": {},
   "outputs": [
    {
     "name": "stdout",
     "output_type": "stream",
     "text": [
      "GREETINGS SUMEDH\n"
     ]
    }
   ],
   "source": [
    "g2.greeter(\"SUMEDH\")"
   ]
  },
  {
   "cell_type": "markdown",
   "id": "79295e38",
   "metadata": {},
   "source": [
    "Class Methods\n",
    "\n",
    "1]these are the methods which are bounded to the class not to the instances 2] defined by @classmethod and contain 'cls' keyowrd insted of 'self' which refers the method to the class itself 3]we can access these methods through the obj using class name and method name and directly  assigning its parameters 4] Also act as alternative to the '__init__' method "
   ]
  },
  {
   "cell_type": "code",
   "execution_count": 22,
   "id": "159111ed",
   "metadata": {},
   "outputs": [],
   "source": [
    "class Student:\n",
    "    @classmethod\n",
    "    def course(cls,name):\n",
    "        print(\"THE COURSE IS:\",name)\n",
    "s=Student()"
   ]
  },
  {
   "cell_type": "code",
   "execution_count": 23,
   "id": "47d88425",
   "metadata": {},
   "outputs": [
    {
     "name": "stdout",
     "output_type": "stream",
     "text": [
      "THE COURSE IS: DATA ANALYTICS\n"
     ]
    }
   ],
   "source": [
    "s=Student.course(\"DATA ANALYTICS\")"
   ]
  },
  {
   "cell_type": "markdown",
   "id": "724d2e49",
   "metadata": {},
   "source": [
    "______________"
   ]
  },
  {
   "cell_type": "markdown",
   "id": "131b4ab0",
   "metadata": {},
   "source": [
    " Q4) How does Python implement method overloading? Give an example."
   ]
  },
  {
   "cell_type": "markdown",
   "id": "e2394859",
   "metadata": {},
   "source": [
    "(refered source : google , classn otes)\n",
    "\n",
    "1]python does not directly support method overloading but achives this similar effect through:"
   ]
  },
  {
   "cell_type": "code",
   "execution_count": 27,
   "id": "2361b906",
   "metadata": {},
   "outputs": [],
   "source": [
    "# DEFAULT ARGUMENTS:\n",
    "\n",
    "class Student:\n",
    "    def details(self,name,course=\"NONE\",level=\"1\"):\n",
    "        print(f'''THE DETAILS ARE :\n",
    "        NAME :{name}\n",
    "        COURSE {course}:\n",
    "        LEVEL :{level}''')\n",
    "        \n",
    "s=Student()"
   ]
  },
  {
   "cell_type": "code",
   "execution_count": 28,
   "id": "6f123fdd",
   "metadata": {},
   "outputs": [
    {
     "name": "stdout",
     "output_type": "stream",
     "text": [
      "THE DETAILS ARE :\n",
      "        NAME :NIKHIL\n",
      "        COURSE NONE:\n",
      "        LEVEL :1\n"
     ]
    }
   ],
   "source": [
    "s.details(\"NIKHIL\")"
   ]
  },
  {
   "cell_type": "code",
   "execution_count": 30,
   "id": "7430d092",
   "metadata": {},
   "outputs": [
    {
     "name": "stdout",
     "output_type": "stream",
     "text": [
      "THE DETAILS ARE :\n",
      "        NAME :nikhil\n",
      "        COURSE da:\n",
      "        LEVEL :1\n"
     ]
    }
   ],
   "source": [
    "s.details(\"nikhil\",\"da\") "
   ]
  },
  {
   "cell_type": "code",
   "execution_count": 32,
   "id": "cf2b0e3d",
   "metadata": {},
   "outputs": [],
   "source": [
    "# VARIABLE LENGTH ARGUMENTS:\n",
    "class adder:\n",
    "    def add(self,*args):\n",
    "        return sum(args)\n",
    "    \n",
    "a=adder()"
   ]
  },
  {
   "cell_type": "code",
   "execution_count": 33,
   "id": "72ef28d2",
   "metadata": {},
   "outputs": [
    {
     "data": {
      "text/plain": [
       "36"
      ]
     },
     "execution_count": 33,
     "metadata": {},
     "output_type": "execute_result"
    }
   ],
   "source": [
    "a.add(1,2,3,4,5,6,7,8)"
   ]
  },
  {
   "cell_type": "code",
   "execution_count": 34,
   "id": "978cdb6b",
   "metadata": {},
   "outputs": [],
   "source": [
    "# methods like manual emulating can also be used by using the conditional statements or inspecting the number of arguments passed to the method"
   ]
  },
  {
   "cell_type": "markdown",
   "id": "39e70cfa",
   "metadata": {},
   "source": [
    "__________"
   ]
  },
  {
   "cell_type": "markdown",
   "id": "14890399",
   "metadata": {},
   "source": [
    "Q5) What are the three types of access modifiers in Python? How are they denoted?"
   ]
  },
  {
   "cell_type": "markdown",
   "id": "3417bed8",
   "metadata": {},
   "source": [
    "There are three types of access modifiers: PUBLIC , PRIVATE , PROTECTED \n",
    "\n",
    "\n",
    "1)PUBLIC : accessed within and outside the class as well. (default type of any method / data \n",
    "\n",
    "2)PRIVATE: accessed withinthe class only denoted '__varname'  double underscore followed by var/method name.\n",
    "  \n",
    "3)PROTECTED: accessed within the class and the subclass defined by '_varname' single underscore followed by var/method name."
   ]
  },
  {
   "cell_type": "code",
   "execution_count": 37,
   "id": "08a179a8",
   "metadata": {},
   "outputs": [],
   "source": [
    "class acces:\n",
    "    def __init__(self,name,age,number):\n",
    "        self.name=name   # public \n",
    "        self._age=age    # protected \n",
    "        self.__number=number   # private \n",
    "    "
   ]
  },
  {
   "cell_type": "markdown",
   "id": "cd08c86a",
   "metadata": {},
   "source": [
    "_______________________"
   ]
  },
  {
   "cell_type": "markdown",
   "id": "ef751f5c",
   "metadata": {},
   "source": [
    "Q6)  Describe the five types of inheritance in Python. Provide a simple example of multiple inheritance."
   ]
  },
  {
   "cell_type": "markdown",
   "id": "cae145d4",
   "metadata": {},
   "source": [
    "1) SINGLE LEVEL INHERITANCE:\n",
    "\n",
    "one parent class and one child class"
   ]
  },
  {
   "cell_type": "code",
   "execution_count": 2,
   "id": "c4b8aadc",
   "metadata": {},
   "outputs": [],
   "source": [
    "class College:\n",
    "    def detail(self):\n",
    "        print(\"THIS IS COLLEGE CLASS\")"
   ]
  },
  {
   "cell_type": "code",
   "execution_count": 3,
   "id": "25c1e99f",
   "metadata": {},
   "outputs": [],
   "source": [
    "class Vcet(College):\n",
    "    def details(self):\n",
    "        print(\"THIS IS VCET\")\n",
    "        \n",
    "v=Vcet()"
   ]
  },
  {
   "cell_type": "code",
   "execution_count": 6,
   "id": "f46c88bd",
   "metadata": {},
   "outputs": [
    {
     "name": "stdout",
     "output_type": "stream",
     "text": [
      "THIS IS COLLEGE CLASS\n",
      "THIS IS VCET\n"
     ]
    }
   ],
   "source": [
    "v.detail()\n",
    "v.details()  # Class Vcet can access the College class method as well."
   ]
  },
  {
   "cell_type": "markdown",
   "id": "707d2113",
   "metadata": {},
   "source": [
    "2) MULTI LEVEL INHERITANCE:\n",
    "\n",
    "one child act as parent for another child class. Through this the last class can access the properties of all the classes above him."
   ]
  },
  {
   "cell_type": "code",
   "execution_count": 7,
   "id": "200236d7",
   "metadata": {},
   "outputs": [],
   "source": [
    "class College:\n",
    "    def detail(self):\n",
    "        print(\"THIS IS COLLEGE CLASS\")\n",
    "        \n",
    "class Vcet(College):\n",
    "    def details(self):\n",
    "        print(\"THIS IS VCET\")\n",
    "        \n",
    "class Student(Vcet):\n",
    "    def intro(self):\n",
    "        print(\"IM A VCETIAN..\")"
   ]
  },
  {
   "cell_type": "code",
   "execution_count": 8,
   "id": "d8d53a7d",
   "metadata": {},
   "outputs": [],
   "source": [
    "stud=Student()"
   ]
  },
  {
   "cell_type": "code",
   "execution_count": 10,
   "id": "da0209b0",
   "metadata": {},
   "outputs": [
    {
     "name": "stdout",
     "output_type": "stream",
     "text": [
      "THIS IS COLLEGE CLASS\n"
     ]
    }
   ],
   "source": [
    "stud.detail()"
   ]
  },
  {
   "cell_type": "markdown",
   "id": "784e7333",
   "metadata": {},
   "source": [
    "3) MULTIPLE INHERITANCE: \n",
    "\n",
    "1] Child class inherits multiple parent class.2] this creates diamond problem which can be reslved by MRO (method resolution order)"
   ]
  },
  {
   "cell_type": "code",
   "execution_count": 12,
   "id": "25e20eda",
   "metadata": {},
   "outputs": [],
   "source": [
    "class College:  # parent1\n",
    "    def detail(self):\n",
    "        print(\"THIS IS COLLEGE CLASS\")\n",
    "        \n",
    "class Vcet:   # parent2\n",
    "    def details(self):\n",
    "        print(\"THIS IS VCET\")\n",
    "        \n",
    "class Student(College,Vcet):  # inherits 2 parent classes \n",
    "    def intro(self):\n",
    "        print(\"IM A VCETIAN..\")"
   ]
  },
  {
   "cell_type": "code",
   "execution_count": 13,
   "id": "c81446ee",
   "metadata": {},
   "outputs": [],
   "source": [
    "s=Student()"
   ]
  },
  {
   "cell_type": "code",
   "execution_count": 14,
   "id": "14aa731d",
   "metadata": {},
   "outputs": [
    {
     "name": "stdout",
     "output_type": "stream",
     "text": [
      "IM A VCETIAN..\n"
     ]
    }
   ],
   "source": [
    "s.intro()"
   ]
  },
  {
   "cell_type": "markdown",
   "id": "40a4f221",
   "metadata": {},
   "source": [
    "4) HIERARCHICAL INHERITANCE: \n",
    "\n",
    "one parent class , multiple child class."
   ]
  },
  {
   "cell_type": "code",
   "execution_count": 17,
   "id": "96211000",
   "metadata": {},
   "outputs": [],
   "source": [
    "class College:  # parent1\n",
    "    def detail(self):\n",
    "        print(\"THIS IS COLLEGE CLASS\")\n",
    "        \n",
    "class Vcet(College):   # child1\n",
    "    def details(self):\n",
    "        print(\"THIS IS VCET\")\n",
    "        \n",
    "class Student(College):  # child2\n",
    "    def intro(self):\n",
    "        print(\"IM A VCETIAN..\")"
   ]
  },
  {
   "cell_type": "code",
   "execution_count": 19,
   "id": "68d0a991",
   "metadata": {},
   "outputs": [],
   "source": [
    "v1=Vcet()\n",
    "s2=Student()"
   ]
  },
  {
   "cell_type": "code",
   "execution_count": 21,
   "id": "a0e3bdbb",
   "metadata": {},
   "outputs": [
    {
     "name": "stdout",
     "output_type": "stream",
     "text": [
      "THIS IS COLLEGE CLASS\n",
      "THIS IS COLLEGE CLASS\n"
     ]
    }
   ],
   "source": [
    "v1.detail()\n",
    "s2.detail()   # both can access the parent class "
   ]
  },
  {
   "cell_type": "markdown",
   "id": "4d75c7a8",
   "metadata": {},
   "source": [
    "5) HYBRID INHERITANCE: \n",
    "\n",
    "combination of any 2 inheritances."
   ]
  },
  {
   "cell_type": "code",
   "execution_count": 24,
   "id": "9fdc2fdc",
   "metadata": {},
   "outputs": [],
   "source": [
    "class College:  # parent\n",
    "    def detail(self):\n",
    "        print(\"THIS IS COLLEGE CLASS\")\n",
    "        \n",
    "class Vcet(College):   # child\n",
    "    def details(self):\n",
    "        print(\"THIS IS VCET\")\n",
    "        \n",
    "class Student(Vcet):  # child2\n",
    "    def intro(self):\n",
    "        print(\"IM A VCETIAN..\")\n",
    "\n",
    "class Employee(Vcet):\n",
    "    def intros(self):\n",
    "        print(\"IM A VCET EMPLOYEE\")  \n",
    "        \n",
    "# the above is hybrid , College and Vcet follows single level whereas  Student and Employee class follow the hierarchical inheritance through parent class Vcet"
   ]
  },
  {
   "cell_type": "markdown",
   "id": "2e05114d",
   "metadata": {},
   "source": [
    "_________"
   ]
  },
  {
   "cell_type": "markdown",
   "id": "4396089b",
   "metadata": {},
   "source": [
    "Q7)  What is the Method Resolution Order (MRO) in Python? How can you retrieve it programmatically?"
   ]
  },
  {
   "cell_type": "markdown",
   "id": "da492a09",
   "metadata": {},
   "source": [
    "Multilevel Inheritance causes diamond problem when it deals with method overriding.To counter that we use MRO (method resolution order)or c3 linearization . In this the parent class which is written first in the child class or the child class inherits whichever parent class first the method of that parent class will be printed or executed."
   ]
  },
  {
   "cell_type": "code",
   "execution_count": 42,
   "id": "62fd5c5c",
   "metadata": {},
   "outputs": [],
   "source": [
    "class College:  # parent1\n",
    "    def detail(self):\n",
    "        print(\"THIS IS COLLEGE CLASS\")\n",
    "        \n",
    "class Vcet(College):   # parent2\n",
    "    def detail(self):\n",
    "        print(\"THIS IS VCET\")\n",
    "        \n",
    "class Student(Vcet,College):  # child\n",
    "    def intro(self):\n",
    "        print(\"IM A VCETIAN..\")"
   ]
  },
  {
   "cell_type": "code",
   "execution_count": 43,
   "id": "238039c7",
   "metadata": {},
   "outputs": [],
   "source": [
    "s3=Student()"
   ]
  },
  {
   "cell_type": "code",
   "execution_count": 44,
   "id": "e6e78c8f",
   "metadata": {},
   "outputs": [
    {
     "name": "stdout",
     "output_type": "stream",
     "text": [
      "THIS IS VCET\n"
     ]
    }
   ],
   "source": [
    "s3.detail()      # since Vcet is inherited first."
   ]
  },
  {
   "cell_type": "code",
   "execution_count": 45,
   "id": "7d2ef135",
   "metadata": {},
   "outputs": [],
   "source": [
    "class College:  # parent1\n",
    "    def detail(self):\n",
    "        print(\"THIS IS COLLEGE CLASS\")\n",
    "        \n",
    "class Vcet:   # parent2\n",
    "    def detail(self):\n",
    "        print(\"THIS IS VCET\")\n",
    "        \n",
    "class Student(College,Vcet):  # child\n",
    "    def intro(self):\n",
    "        print(\"IM A VCETIAN..\")"
   ]
  },
  {
   "cell_type": "code",
   "execution_count": 46,
   "id": "7780a0f3",
   "metadata": {},
   "outputs": [],
   "source": [
    "s4=Student()"
   ]
  },
  {
   "cell_type": "code",
   "execution_count": 48,
   "id": "413b7574",
   "metadata": {},
   "outputs": [
    {
     "name": "stdout",
     "output_type": "stream",
     "text": [
      "THIS IS COLLEGE CLASS\n"
     ]
    }
   ],
   "source": [
    "s4.detail()  # Since college is inherited first."
   ]
  },
  {
   "cell_type": "markdown",
   "id": "2edb3507",
   "metadata": {},
   "source": [
    "____________"
   ]
  },
  {
   "cell_type": "markdown",
   "id": "87a0f47b",
   "metadata": {},
   "source": [
    "Q8) Create an abstract base class `Shape` with an abstract method `area()`. Then create two subclasses \n",
    "`Circle` and `Rectangle` that implement the `area()` method."
   ]
  },
  {
   "cell_type": "code",
   "execution_count": 57,
   "id": "26798886",
   "metadata": {},
   "outputs": [],
   "source": [
    "import abc\n",
    "\n",
    "class Shape:\n",
    "    @abc.abstractmethod\n",
    "    def area(self,formula):\n",
    "        print(f\"THE FORMULA FOR AREA IS {formula}\")\n",
    "        \n",
    "class Circle(Shape):\n",
    "    def area(self,formula):\n",
    "        print(f\"THE FORMULA FOR AREA IS: {formula}\")\n",
    "        \n",
    "class Rectangle(Shape):\n",
    "    def area(self,formula):\n",
    "        print(f\"THE FORMULA FOR AREA IS: {formula}\")"
   ]
  },
  {
   "cell_type": "code",
   "execution_count": 58,
   "id": "9e30455a",
   "metadata": {},
   "outputs": [],
   "source": [
    "c=Circle()\n",
    "r=Rectangle()"
   ]
  },
  {
   "cell_type": "code",
   "execution_count": 61,
   "id": "c23cb862",
   "metadata": {},
   "outputs": [
    {
     "name": "stdout",
     "output_type": "stream",
     "text": [
      "THE FORMULA FOR AREA IS: 3.14*radius*radius\n"
     ]
    }
   ],
   "source": [
    "c.area(\"3.14*radius*radius\")"
   ]
  },
  {
   "cell_type": "code",
   "execution_count": 60,
   "id": "af466b10",
   "metadata": {},
   "outputs": [
    {
     "name": "stdout",
     "output_type": "stream",
     "text": [
      "THE FORMULA FOR AREA IS: length * breadth\n"
     ]
    }
   ],
   "source": [
    "r.area(\"length * breadth\")"
   ]
  },
  {
   "cell_type": "markdown",
   "id": "6c7cf959",
   "metadata": {},
   "source": [
    "____"
   ]
  },
  {
   "cell_type": "markdown",
   "id": "2b182fec",
   "metadata": {},
   "source": [
    "Q9) Demonstrate polymorphism by creating a function that can work with different shape objects to calculate \n",
    "and print their areas."
   ]
  },
  {
   "cell_type": "code",
   "execution_count": 70,
   "id": "438524db",
   "metadata": {},
   "outputs": [],
   "source": [
    "class Shape:\n",
    "    def area(self):\n",
    "        n=input(\"CIRLCE  OR SQUARE: \")\n",
    "        if n==\"CIRCLE\":\n",
    "            r=float(input(\"ENTER RADIUS: \"))\n",
    "            print(\"THE AREA IS: \",3.14*r*r)\n",
    "        else:\n",
    "            s=int(input(\"ENTER SIDE: \"))\n",
    "            print(\"THE AREA IS: \",s*s)"
   ]
  },
  {
   "cell_type": "code",
   "execution_count": 71,
   "id": "08a15828",
   "metadata": {},
   "outputs": [],
   "source": [
    "sh=Shape()"
   ]
  },
  {
   "cell_type": "code",
   "execution_count": 72,
   "id": "f80946f0",
   "metadata": {},
   "outputs": [
    {
     "name": "stdout",
     "output_type": "stream",
     "text": [
      "CIRLCE  OR SQUARE: SQUARE\n",
      "ENTER SIDE: 3\n",
      "THE AREA IS:  9\n"
     ]
    }
   ],
   "source": [
    "sh.area()"
   ]
  },
  {
   "cell_type": "code",
   "execution_count": 74,
   "id": "83096067",
   "metadata": {},
   "outputs": [
    {
     "name": "stdout",
     "output_type": "stream",
     "text": [
      "CIRLCE  OR SQUARE: CIRCLE\n",
      "ENTER RADIUS: 2.5\n",
      "THE AREA IS:  19.625\n"
     ]
    }
   ],
   "source": [
    "sh.area()                     #same area function works for both int and flaot values as well "
   ]
  },
  {
   "cell_type": "markdown",
   "id": "29f9644f",
   "metadata": {},
   "source": [
    "_________"
   ]
  },
  {
   "cell_type": "markdown",
   "id": "bc8a1eea",
   "metadata": {},
   "source": [
    "Q10) Implement encapsulation in a `BankAccount` class with private attributes for `balance` and \n",
    "`account_number`. Include methods for deposit, withdrawal, and balance inquiry."
   ]
  },
  {
   "cell_type": "code",
   "execution_count": 90,
   "id": "36915967",
   "metadata": {},
   "outputs": [],
   "source": [
    "class BankAccount:\n",
    "    def __init__(self, balance, account_number):\n",
    "        self.__bal=balance\n",
    "        self.__acc=account_number\n",
    "        \n",
    "    def deposit(self,amount):\n",
    "        self.__bal=self.__bal+amount\n",
    "        print(\"SUCCESSFUL\")\n",
    "        \n",
    "    def withdraw(self, amount):\n",
    "        if amount<self.__bal:\n",
    "            self.__bal=self.__bal-amount\n",
    "            print(\"SUCCESSFUL\") \n",
    "        else:\n",
    "            print(\"UNSUFFICIENT BALANCE !\")\n",
    "    def see_balance(self):\n",
    "        print(\"CURRENT BALANCE: \",self.__bal)"
   ]
  },
  {
   "cell_type": "code",
   "execution_count": 91,
   "id": "dee583f9",
   "metadata": {},
   "outputs": [],
   "source": [
    "bk=BankAccount(1000,201)"
   ]
  },
  {
   "cell_type": "code",
   "execution_count": 92,
   "id": "06edf380",
   "metadata": {},
   "outputs": [
    {
     "name": "stdout",
     "output_type": "stream",
     "text": [
      "SUCCESSFUL\n"
     ]
    }
   ],
   "source": [
    "bk.deposit(1000)"
   ]
  },
  {
   "cell_type": "code",
   "execution_count": 93,
   "id": "429e22d3",
   "metadata": {},
   "outputs": [
    {
     "name": "stdout",
     "output_type": "stream",
     "text": [
      "CURRENT BALANCE:  2000\n"
     ]
    }
   ],
   "source": [
    "bk.see_balance()"
   ]
  },
  {
   "cell_type": "code",
   "execution_count": 94,
   "id": "c646a9fb",
   "metadata": {},
   "outputs": [
    {
     "name": "stdout",
     "output_type": "stream",
     "text": [
      "SUCCESSFUL\n"
     ]
    }
   ],
   "source": [
    "bk.withdraw(200)"
   ]
  },
  {
   "cell_type": "code",
   "execution_count": 95,
   "id": "cf91daa4",
   "metadata": {},
   "outputs": [
    {
     "name": "stdout",
     "output_type": "stream",
     "text": [
      "CURRENT BALANCE:  1800\n"
     ]
    }
   ],
   "source": [
    "bk.see_balance()"
   ]
  },
  {
   "cell_type": "markdown",
   "id": "d1336bbe",
   "metadata": {},
   "source": [
    "_________"
   ]
  },
  {
   "cell_type": "markdown",
   "id": "486048bd",
   "metadata": {},
   "source": [
    "Q11) Write a class that overrides the `__str__` and `__add__` magic methods. What will these methods allow \n",
    "you to do"
   ]
  },
  {
   "cell_type": "code",
   "execution_count": 102,
   "id": "ef1d0552",
   "metadata": {},
   "outputs": [],
   "source": [
    "class demo:\n",
    "    def adder(self,x,y):\n",
    "        print(\"RESULT IS: \",x.__add__(y))\n",
    "        \n",
    "    def __str__(self):\n",
    "        return \"THIS IS STRING REPRESENTATION.\"\n",
    "        \n",
    "\n",
    "class child(demo):\n",
    "    pass"
   ]
  },
  {
   "cell_type": "code",
   "execution_count": 103,
   "id": "31ec89a4",
   "metadata": {},
   "outputs": [],
   "source": [
    "c=child()"
   ]
  },
  {
   "cell_type": "code",
   "execution_count": 104,
   "id": "7d6544a8",
   "metadata": {},
   "outputs": [
    {
     "name": "stdout",
     "output_type": "stream",
     "text": [
      "RESULT IS:  5\n"
     ]
    }
   ],
   "source": [
    "c.adder(2,3)"
   ]
  },
  {
   "cell_type": "code",
   "execution_count": 105,
   "id": "8b3812b9",
   "metadata": {},
   "outputs": [
    {
     "name": "stdout",
     "output_type": "stream",
     "text": [
      "THIS IS STRING REPRESENTATION.\n"
     ]
    }
   ],
   "source": [
    "print(demo())"
   ]
  },
  {
   "cell_type": "code",
   "execution_count": null,
   "id": "430ef5f4",
   "metadata": {},
   "outputs": [],
   "source": [
    "c.adder"
   ]
  },
  {
   "cell_type": "markdown",
   "id": "225cfab7",
   "metadata": {},
   "source": [
    "the ' __str__ ' dunder method  cannot be accessed through child class , only through parent class."
   ]
  },
  {
   "cell_type": "markdown",
   "id": "c8b7ba6f",
   "metadata": {},
   "source": [
    "______"
   ]
  },
  {
   "cell_type": "markdown",
   "id": "db7fe35b",
   "metadata": {},
   "source": [
    "Q12) Create a decorator that measures and prints the execution time of a function."
   ]
  },
  {
   "cell_type": "code",
   "execution_count": 106,
   "id": "2e0c2fb7",
   "metadata": {},
   "outputs": [],
   "source": [
    "import time as t"
   ]
  },
  {
   "cell_type": "code",
   "execution_count": 110,
   "id": "ddd38749",
   "metadata": {},
   "outputs": [
    {
     "name": "stdout",
     "output_type": "stream",
     "text": [
      "START TIME:  1734934314.1265612\n",
      "HELLO WORLD!\n",
      "END TIME:  1734934314.127572\n"
     ]
    }
   ],
   "source": [
    "def timer(func):\n",
    "    print(\"START TIME: \",t.time())\n",
    "    func()\n",
    "    print(\"END TIME: \",t.time())\n",
    "\n",
    "@timer\n",
    "def say_hello():\n",
    "    print(\"HELLO WORLD!\")"
   ]
  },
  {
   "cell_type": "markdown",
   "id": "7a15b332",
   "metadata": {},
   "source": [
    "____"
   ]
  },
  {
   "cell_type": "markdown",
   "id": "bc637c5a",
   "metadata": {},
   "source": [
    "Q13) Explain the concept of the Diamond Problem in multiple inheritance. How does Python resolve it"
   ]
  },
  {
   "cell_type": "markdown",
   "id": "bdaa0041",
   "metadata": {},
   "source": [
    "Multilevel Inheritance causes diamond problem when it deals with method overriding.To counter that we use MRO (method resolution order)or c3 linearization . In this the parent class which is written first in the child class or the child class inherits whichever parent class first the method of that parent class will be printed or executed."
   ]
  },
  {
   "cell_type": "markdown",
   "id": "45251f56",
   "metadata": {},
   "source": [
    "#### KINDLY REFER Q7 FOR EXAMPLE OF MRO "
   ]
  },
  {
   "cell_type": "markdown",
   "id": "270639f4",
   "metadata": {},
   "source": [
    "________"
   ]
  },
  {
   "cell_type": "markdown",
   "id": "12060f56",
   "metadata": {},
   "source": [
    "Q14) Write a class method that keeps track of the number of instances created from a class."
   ]
  },
  {
   "cell_type": "code",
   "execution_count": 131,
   "id": "0489f78c",
   "metadata": {},
   "outputs": [],
   "source": [
    "class Counter:\n",
    "    count=0\n",
    "    def __init__(self):\n",
    "        Counter.count+=1\n",
    "    @classmethod    \n",
    "    def counts_obj(cls):\n",
    "        print(\"THE NO. OF OBJ: \",cls.count)"
   ]
  },
  {
   "cell_type": "code",
   "execution_count": 132,
   "id": "944dac4b",
   "metadata": {},
   "outputs": [],
   "source": [
    "c1=Counter()"
   ]
  },
  {
   "cell_type": "code",
   "execution_count": 133,
   "id": "e18a6d99",
   "metadata": {},
   "outputs": [],
   "source": [
    "c2=Counter()"
   ]
  },
  {
   "cell_type": "code",
   "execution_count": 134,
   "id": "622997a3",
   "metadata": {},
   "outputs": [
    {
     "name": "stdout",
     "output_type": "stream",
     "text": [
      "THE NO. OF OBJ:  2\n"
     ]
    }
   ],
   "source": [
    "c2.counts_obj()"
   ]
  },
  {
   "cell_type": "markdown",
   "id": "f261b304",
   "metadata": {},
   "source": [
    "_______"
   ]
  },
  {
   "cell_type": "markdown",
   "id": "d990cbbd",
   "metadata": {},
   "source": [
    "Q15)  Implement a static method in a class that checks if a given year is a leap year"
   ]
  },
  {
   "cell_type": "code",
   "execution_count": 135,
   "id": "f2eb4643",
   "metadata": {},
   "outputs": [],
   "source": [
    "class year:\n",
    "    @staticmethod\n",
    "    def check(num):\n",
    "        if num % 400 ==0 :\n",
    "            print(\"LEAP YEAR !\")\n",
    "        elif num % 4 ==0 and num%100 !=0:\n",
    "            print(\"LEAP YEAR ! \")\n",
    "        else:\n",
    "            print(\"NOT A LEAP YEAR ! \")"
   ]
  },
  {
   "cell_type": "code",
   "execution_count": 136,
   "id": "702f72c3",
   "metadata": {},
   "outputs": [
    {
     "name": "stdout",
     "output_type": "stream",
     "text": [
      "LEAP YEAR ! \n"
     ]
    }
   ],
   "source": [
    "year.check(1992)"
   ]
  },
  {
   "cell_type": "code",
   "execution_count": 137,
   "id": "11177749",
   "metadata": {},
   "outputs": [
    {
     "name": "stdout",
     "output_type": "stream",
     "text": [
      "NOT A LEAP YEAR ! \n"
     ]
    }
   ],
   "source": [
    "year.check(1900)"
   ]
  },
  {
   "cell_type": "code",
   "execution_count": null,
   "id": "4910c2b7",
   "metadata": {},
   "outputs": [],
   "source": []
  }
 ],
 "metadata": {
  "kernelspec": {
   "display_name": "Python 3 (ipykernel)",
   "language": "python",
   "name": "python3"
  },
  "language_info": {
   "codemirror_mode": {
    "name": "ipython",
    "version": 3
   },
   "file_extension": ".py",
   "mimetype": "text/x-python",
   "name": "python",
   "nbconvert_exporter": "python",
   "pygments_lexer": "ipython3",
   "version": "3.9.12"
  }
 },
 "nbformat": 4,
 "nbformat_minor": 5
}
