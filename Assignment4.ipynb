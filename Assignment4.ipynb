{
 "cells": [
  {
   "cell_type": "markdown",
   "id": "17b88eb1",
   "metadata": {},
   "source": [
    "# THEORY QUESTIONS"
   ]
  },
  {
   "cell_type": "markdown",
   "id": "b300ef7a",
   "metadata": {},
   "source": [
    "Q1)  What is the difference between a function and a method in Python?"
   ]
  },
  {
   "cell_type": "markdown",
   "id": "0ab51817",
   "metadata": {},
   "source": [
    "Both are python objects.\n",
    "\n",
    "function:1) are defined using 'def' keyword   2)are independent of any class  3)called by their name and with argumemt if takes.\n",
    "\n",
    "method: 1) are function in a class  2) are bound to class and class data  3)called through instance of the class"
   ]
  },
  {
   "cell_type": "code",
   "execution_count": 1,
   "id": "dc5e99cb",
   "metadata": {},
   "outputs": [
    {
     "data": {
      "text/plain": [
       "13"
      ]
     },
     "execution_count": 1,
     "metadata": {},
     "output_type": "execute_result"
    }
   ],
   "source": [
    "# function:\n",
    "def add(x):\n",
    "    return x+10\n",
    "\n",
    "add(3)   # directly called by name with argument."
   ]
  },
  {
   "cell_type": "code",
   "execution_count": 8,
   "id": "a792e1ff",
   "metadata": {},
   "outputs": [
    {
     "data": {
      "text/plain": [
       "13"
      ]
     },
     "execution_count": 8,
     "metadata": {},
     "output_type": "execute_result"
    }
   ],
   "source": [
    "#method:\n",
    "class Adder:\n",
    "    def add(self , x):\n",
    "        return x+10\n",
    "adder=Adder()\n",
    "adder.add(3)    # function being called by the instance of class 'adder'"
   ]
  },
  {
   "cell_type": "markdown",
   "id": "dedef4e1",
   "metadata": {},
   "source": [
    "____________\n"
   ]
  },
  {
   "cell_type": "markdown",
   "id": "11164979",
   "metadata": {},
   "source": [
    " Q2)Explain the concept of function arguments and parameters in Python."
   ]
  },
  {
   "cell_type": "markdown",
   "id": "5dfed6f8",
   "metadata": {},
   "source": [
    "Parameter :  1)It is specfied during function defination 2) These are the variables that function require 3) It specifies the data the function expects\n",
    "\n",
    "Arguments : Actual data passed to the function when call for execution."
   ]
  },
  {
   "cell_type": "code",
   "execution_count": 10,
   "id": "7f376cea",
   "metadata": {},
   "outputs": [
    {
     "data": {
      "text/plain": [
       "11"
      ]
     },
     "execution_count": 10,
     "metadata": {},
     "output_type": "execute_result"
    }
   ],
   "source": [
    "# Parameter and Arguments \n",
    "def add(x,y):# these are parameters \n",
    "    return x+y\n",
    "add(5,6)# thsese are arguments"
   ]
  },
  {
   "cell_type": "markdown",
   "id": "ff7ab1dd",
   "metadata": {},
   "source": [
    "_____________"
   ]
  },
  {
   "cell_type": "markdown",
   "id": "e0b27549",
   "metadata": {},
   "source": [
    "Q3) What are the different ways to define and call a function in Python?"
   ]
  },
  {
   "cell_type": "markdown",
   "id": "7a63514c",
   "metadata": {},
   "source": [
    "There are 2 ways :\n",
    "\n",
    "1) Calling as general function , defined by keyword 'def' and independent of any class , called by the name of the function and with if arguments are \n",
    "\n",
    "2) callig as a method of class , defined by keyword 'def' but bounded under a class , called using the instance of the class .\n",
    "\n",
    "\n",
    "Ex specfied above in Q1)  (Kindly Refer) "
   ]
  },
  {
   "cell_type": "markdown",
   "id": "0bb28405",
   "metadata": {},
   "source": [
    "_________"
   ]
  },
  {
   "cell_type": "markdown",
   "id": "db1225f2",
   "metadata": {},
   "source": [
    "Q4)  What is the purpose of the `return` statement in a Python function?"
   ]
  },
  {
   "cell_type": "code",
   "execution_count": 12,
   "id": "d33fd648",
   "metadata": {},
   "outputs": [
    {
     "data": {
      "text/plain": [
       "24"
      ]
     },
     "execution_count": 12,
     "metadata": {},
     "output_type": "execute_result"
    }
   ],
   "source": [
    "# The return statement throws the output of the function as it is.\n",
    "# eg\n",
    "\n",
    "def add(x,y):\n",
    "    return x+y\n",
    "add(5,6) +13 # output is returned as it is and it can be modified directly as well , which is not possible in print statement "
   ]
  },
  {
   "cell_type": "markdown",
   "id": "4a004f46",
   "metadata": {},
   "source": [
    "___"
   ]
  },
  {
   "cell_type": "markdown",
   "id": "303143cc",
   "metadata": {},
   "source": [
    "Q5)  What are iterators in Python and how do they differ from iterables?"
   ]
  },
  {
   "cell_type": "markdown",
   "id": "090a58b2",
   "metadata": {},
   "source": [
    "Iterators : Are obj that allow to iterate /loop over a iterable for a finite number of time.\n",
    "\n",
    "Iterables: Are those obj which are capable of returning its elements one by one when put in a loop . Like list , tuple etc "
   ]
  },
  {
   "cell_type": "code",
   "execution_count": 14,
   "id": "c2e8e86e",
   "metadata": {},
   "outputs": [
    {
     "name": "stdout",
     "output_type": "stream",
     "text": [
      "m u m b a i "
     ]
    }
   ],
   "source": [
    "# eg\n",
    "\n",
    "for i in \"mumbai\":  # here 'mumbai ' is iterable and i is iterator.\n",
    "    print(i,end=\" \")"
   ]
  },
  {
   "cell_type": "markdown",
   "id": "be76ac97",
   "metadata": {},
   "source": [
    "____"
   ]
  },
  {
   "cell_type": "markdown",
   "id": "c085c74b",
   "metadata": {},
   "source": [
    "Q6)  Explain the concept of generators in Python and how they are defined"
   ]
  },
  {
   "cell_type": "markdown",
   "id": "2d748731",
   "metadata": {},
   "source": [
    "Generator:Generator are a simple way of creating a iterator using the 'yield'insted of the 'return'  keyword and function "
   ]
  },
  {
   "cell_type": "code",
   "execution_count": 15,
   "id": "de2520bb",
   "metadata": {},
   "outputs": [],
   "source": [
    "def greet(list):\n",
    "    for nam in name:\n",
    "        yield f\"HELLO {nam}\"\n",
    "        \n",
    "name=[\"raj\",\"shyam\"]\n",
    "gen=greet(name)   #  initialization of  a interator"
   ]
  },
  {
   "cell_type": "code",
   "execution_count": 17,
   "id": "31e5d090",
   "metadata": {},
   "outputs": [
    {
     "data": {
      "text/plain": [
       "<generator object greet at 0x0000020F5C3754A0>"
      ]
     },
     "execution_count": 17,
     "metadata": {},
     "output_type": "execute_result"
    }
   ],
   "source": [
    "gen    "
   ]
  },
  {
   "cell_type": "code",
   "execution_count": 16,
   "id": "2875412c",
   "metadata": {},
   "outputs": [
    {
     "data": {
      "text/plain": [
       "'HELLO raj'"
      ]
     },
     "execution_count": 16,
     "metadata": {},
     "output_type": "execute_result"
    }
   ],
   "source": [
    "next(gen)  "
   ]
  },
  {
   "cell_type": "code",
   "execution_count": 18,
   "id": "86b54604",
   "metadata": {},
   "outputs": [
    {
     "data": {
      "text/plain": [
       "'HELLO shyam'"
      ]
     },
     "execution_count": 18,
     "metadata": {},
     "output_type": "execute_result"
    }
   ],
   "source": [
    "next(gen)  "
   ]
  },
  {
   "cell_type": "code",
   "execution_count": 19,
   "id": "f04e23de",
   "metadata": {},
   "outputs": [
    {
     "ename": "StopIteration",
     "evalue": "",
     "output_type": "error",
     "traceback": [
      "\u001b[1;31m---------------------------------------------------------------------------\u001b[0m",
      "\u001b[1;31mStopIteration\u001b[0m                             Traceback (most recent call last)",
      "Input \u001b[1;32mIn [19]\u001b[0m, in \u001b[0;36m<cell line: 1>\u001b[1;34m()\u001b[0m\n\u001b[1;32m----> 1\u001b[0m \u001b[38;5;28;43mnext\u001b[39;49m\u001b[43m(\u001b[49m\u001b[43mgen\u001b[49m\u001b[43m)\u001b[49m\n",
      "\u001b[1;31mStopIteration\u001b[0m: "
     ]
    }
   ],
   "source": [
    "next(gen)  "
   ]
  },
  {
   "cell_type": "markdown",
   "id": "446984a0",
   "metadata": {},
   "source": [
    "____"
   ]
  },
  {
   "cell_type": "markdown",
   "id": "01aac521",
   "metadata": {},
   "source": [
    "Q7) What are the advantages of using generators over regular functions?"
   ]
  },
  {
   "cell_type": "markdown",
   "id": "861064cd",
   "metadata": {},
   "source": [
    "General functions show the result in a bulk , so to store it requires more memory space where as generators uses a single memory location to store values/results , it only executes the code when it is called through next() , so it saves more memory than regualr function."
   ]
  },
  {
   "cell_type": "code",
   "execution_count": 3,
   "id": "a5ad6412",
   "metadata": {},
   "outputs": [
    {
     "name": "stdout",
     "output_type": "stream",
     "text": [
      "m u m b a i "
     ]
    }
   ],
   "source": [
    "# regular function\n",
    "\n",
    "def splitter(str):\n",
    "    for i in str:\n",
    "        print(i, end=\" \")  # whole bulk is send\n",
    "splitter(\"mumbai\")"
   ]
  },
  {
   "cell_type": "code",
   "execution_count": 5,
   "id": "12d66853",
   "metadata": {},
   "outputs": [],
   "source": [
    "# generator function \n",
    "\n",
    "def splitter(str):\n",
    "    for i in str:\n",
    "        yield i\n",
    "gen=splitter(\"mumbai\")"
   ]
  },
  {
   "cell_type": "code",
   "execution_count": 6,
   "id": "52924dfe",
   "metadata": {},
   "outputs": [
    {
     "data": {
      "text/plain": [
       "'m'"
      ]
     },
     "execution_count": 6,
     "metadata": {},
     "output_type": "execute_result"
    }
   ],
   "source": [
    "next(gen)"
   ]
  },
  {
   "cell_type": "code",
   "execution_count": 7,
   "id": "385ada33",
   "metadata": {},
   "outputs": [
    {
     "data": {
      "text/plain": [
       "'u'"
      ]
     },
     "execution_count": 7,
     "metadata": {},
     "output_type": "execute_result"
    }
   ],
   "source": [
    "next(gen)  # and so on , it only throws value of iterable when asked."
   ]
  },
  {
   "cell_type": "markdown",
   "id": "2cecc4e9",
   "metadata": {},
   "source": [
    "_________"
   ]
  },
  {
   "cell_type": "markdown",
   "id": "96b1599a",
   "metadata": {},
   "source": [
    "Q8) What is a lambda function in Python and when is it typically used?"
   ]
  },
  {
   "cell_type": "markdown",
   "id": "07fc4940",
   "metadata": {},
   "source": [
    "Lambda function is a anonymous type of function which is used to replace long function statement in a single line simple expression (short hand  expression). \n",
    "\n",
    "It is used when a simple expression is to be executed without declaring a function for that "
   ]
  },
  {
   "cell_type": "code",
   "execution_count": 8,
   "id": "5715cb7c",
   "metadata": {},
   "outputs": [
    {
     "data": {
      "text/plain": [
       "21"
      ]
     },
     "execution_count": 8,
     "metadata": {},
     "output_type": "execute_result"
    }
   ],
   "source": [
    "# regular function:\n",
    "def add(x):\n",
    "    return x+20\n",
    "add(1)"
   ]
  },
  {
   "cell_type": "code",
   "execution_count": 10,
   "id": "4454ff09",
   "metadata": {},
   "outputs": [
    {
     "data": {
      "text/plain": [
       "21"
      ]
     },
     "execution_count": 10,
     "metadata": {},
     "output_type": "execute_result"
    }
   ],
   "source": [
    "# lambda function \n",
    "x=lambda x : x+20  \n",
    "x(1)"
   ]
  },
  {
   "cell_type": "markdown",
   "id": "c8ae4957",
   "metadata": {},
   "source": [
    "_________________"
   ]
  },
  {
   "cell_type": "markdown",
   "id": "25b07a19",
   "metadata": {},
   "source": [
    "Q9) Explain the purpose and usage of the `map()` function in Python"
   ]
  },
  {
   "cell_type": "markdown",
   "id": "42f646d8",
   "metadata": {},
   "source": [
    "Map function is used when we have to execute a fucntion for each element of a iterable. It also reduces the line code "
   ]
  },
  {
   "cell_type": "code",
   "execution_count": 11,
   "id": "dafb8359",
   "metadata": {},
   "outputs": [
    {
     "data": {
      "text/plain": [
       "[21]"
      ]
     },
     "execution_count": 11,
     "metadata": {},
     "output_type": "execute_result"
    }
   ],
   "source": [
    "# map function\n",
    "\n",
    "l=[1] # iterable\n",
    "list(map(lambda x :x+20,l))  #function and argument"
   ]
  },
  {
   "cell_type": "code",
   "execution_count": 12,
   "id": "011d0a0f",
   "metadata": {},
   "outputs": [
    {
     "data": {
      "text/plain": [
       "21"
      ]
     },
     "execution_count": 12,
     "metadata": {},
     "output_type": "execute_result"
    }
   ],
   "source": [
    "# regular function \n",
    "\n",
    "def adder(list):\n",
    "    for i in list:\n",
    "        return i+20\n",
    "    \n",
    "adder(l)"
   ]
  },
  {
   "cell_type": "markdown",
   "id": "8953c586",
   "metadata": {},
   "source": [
    "___"
   ]
  },
  {
   "cell_type": "markdown",
   "id": "9ca00e40",
   "metadata": {},
   "source": [
    "Q10) What is the difference between `map()`, `reduce()`, and `filter()` functions in Python?"
   ]
  },
  {
   "cell_type": "markdown",
   "id": "742a2528",
   "metadata": {},
   "source": [
    "Map function is used when we have to execute a fucntion for each element of a iterable. It also reduces the line code\n",
    "\n",
    "Reduce function is used for folding the iterable , making the iterable to come to single value by doing cumulative operation on it.\n",
    "\n",
    "Filter function creates a another iterable from the existing iterable based on a specfic condition function."
   ]
  },
  {
   "cell_type": "code",
   "execution_count": 13,
   "id": "569d41c1",
   "metadata": {},
   "outputs": [],
   "source": [
    "# kindly refer map function above "
   ]
  },
  {
   "cell_type": "code",
   "execution_count": 17,
   "id": "df2e03f8",
   "metadata": {},
   "outputs": [
    {
     "data": {
      "text/plain": [
       "45"
      ]
     },
     "execution_count": 17,
     "metadata": {},
     "output_type": "execute_result"
    }
   ],
   "source": [
    "# reduce:\n",
    "\n",
    "\n",
    "from functools import reduce\n",
    "s=[1,2,3,4,5,6,7,8,9]\n",
    "reduce(lambda x,y: x+y,s)"
   ]
  },
  {
   "cell_type": "code",
   "execution_count": 19,
   "id": "092981a7",
   "metadata": {},
   "outputs": [
    {
     "data": {
      "text/plain": [
       "[2, 4, 6, 8]"
      ]
     },
     "execution_count": 19,
     "metadata": {},
     "output_type": "execute_result"
    }
   ],
   "source": [
    "#filter\n",
    "\n",
    "list(filter(lambda x:x%2==0,s))  # condition function is of even finding."
   ]
  },
  {
   "cell_type": "markdown",
   "id": "e9359504",
   "metadata": {},
   "source": [
    "_______"
   ]
  },
  {
   "cell_type": "markdown",
   "id": "3255ebdf",
   "metadata": {},
   "source": [
    "Q11) Using pen & Paper write the internal mechanism for sum operation using  reduce function on this given\n",
    "list:[47,11,42,13]"
   ]
  },
  {
   "cell_type": "code",
   "execution_count": 20,
   "id": "df125afb",
   "metadata": {},
   "outputs": [],
   "source": [
    "# reduce(lambda x,y: x+y,s)"
   ]
  },
  {
   "cell_type": "markdown",
   "id": "1feda232",
   "metadata": {},
   "source": [
    "![](assignment4Q11.jpg)"
   ]
  },
  {
   "cell_type": "markdown",
   "id": "91ab8f1f",
   "metadata": {},
   "source": [
    "___"
   ]
  },
  {
   "cell_type": "markdown",
   "id": "090ddcb8",
   "metadata": {},
   "source": [
    "# PRACTICAL QUESTIONS"
   ]
  },
  {
   "cell_type": "markdown",
   "id": "573e205f",
   "metadata": {},
   "source": [
    "Q1) Write a Python function that takes a list of numbers as input and returns the sum of all even numbers in\n",
    "the list."
   ]
  },
  {
   "cell_type": "code",
   "execution_count": 32,
   "id": "6753b8bd",
   "metadata": {},
   "outputs": [
    {
     "data": {
      "text/plain": [
       "20"
      ]
     },
     "execution_count": 32,
     "metadata": {},
     "output_type": "execute_result"
    }
   ],
   "source": [
    "from functools import reduce\n",
    "l=[1,2,3,4,5,6,7,8,9]\n",
    "reduce(lambda x,y: x+y,list(filter(lambda x:x%2==0,l)))"
   ]
  },
  {
   "cell_type": "markdown",
   "id": "fb06241d",
   "metadata": {},
   "source": [
    "____"
   ]
  },
  {
   "cell_type": "markdown",
   "id": "83abcd1a",
   "metadata": {},
   "source": [
    "Q2) Create a Python function that accepts a string and returns the reverse of that string"
   ]
  },
  {
   "cell_type": "code",
   "execution_count": 33,
   "id": "13376e38",
   "metadata": {},
   "outputs": [
    {
     "data": {
      "text/plain": [
       "'iabmum'"
      ]
     },
     "execution_count": 33,
     "metadata": {},
     "output_type": "execute_result"
    }
   ],
   "source": [
    "x=\"mumbai\"\n",
    "result=lambda str: str[::-1]\n",
    "result(x)"
   ]
  },
  {
   "cell_type": "markdown",
   "id": "6ff6eddd",
   "metadata": {},
   "source": [
    "___"
   ]
  },
  {
   "cell_type": "markdown",
   "id": "a334de25",
   "metadata": {},
   "source": [
    "Q3) Implement a Python function that takes a list of integers and returns a new list containing the squares of\n",
    "each number"
   ]
  },
  {
   "cell_type": "code",
   "execution_count": 40,
   "id": "5d66c35d",
   "metadata": {},
   "outputs": [
    {
     "name": "stdout",
     "output_type": "stream",
     "text": [
      "[1, 4, 9, 16]\n"
     ]
    }
   ],
   "source": [
    "x=[1,2,3,4]\n",
    "res=[]\n",
    "res=list(map(lambda x:x**2,x))\n",
    "print(res)"
   ]
  },
  {
   "cell_type": "markdown",
   "id": "e80b1e74",
   "metadata": {},
   "source": [
    "____"
   ]
  },
  {
   "cell_type": "markdown",
   "id": "7457714e",
   "metadata": {},
   "source": [
    "Q4) Write a Python function that checks if a given number is prime or not from 1 to 200."
   ]
  },
  {
   "cell_type": "code",
   "execution_count": 61,
   "id": "4e90f286",
   "metadata": {},
   "outputs": [
    {
     "name": "stdout",
     "output_type": "stream",
     "text": [
      "PRIME\n",
      "IN RANGE 200\n"
     ]
    }
   ],
   "source": [
    "def prime_check(x):\n",
    "    for i in range(2,x):\n",
    "        if x%i==0:\n",
    "            print(\"NOT PRIME\")\n",
    "            break\n",
    "        else:\n",
    "            print(\"PRIME\")\n",
    "            if x<200:\n",
    "                print(\"IN RANGE 200\")\n",
    "            break\n",
    "prime_check(17)"
   ]
  },
  {
   "cell_type": "markdown",
   "id": "74e41e82",
   "metadata": {},
   "source": [
    "___"
   ]
  },
  {
   "cell_type": "markdown",
   "id": "12af15de",
   "metadata": {},
   "source": [
    "Q5)Create an iterator class in Python that generates the Fibonacci sequence up to a specified number of\n",
    "terms."
   ]
  },
  {
   "cell_type": "code",
   "execution_count": 69,
   "id": "e0191092",
   "metadata": {},
   "outputs": [],
   "source": [
    "def fibonacci(x):\n",
    "    a=0\n",
    "    b=1\n",
    "    for i in range(x):\n",
    "        yield a\n",
    "        a,b=b,a+b\n",
    "        \n",
    "gen=fibonacci(6)"
   ]
  },
  {
   "cell_type": "code",
   "execution_count": 70,
   "id": "a8112a62",
   "metadata": {},
   "outputs": [
    {
     "data": {
      "text/plain": [
       "0"
      ]
     },
     "execution_count": 70,
     "metadata": {},
     "output_type": "execute_result"
    }
   ],
   "source": [
    "next(gen)"
   ]
  },
  {
   "cell_type": "code",
   "execution_count": 71,
   "id": "1ba15b33",
   "metadata": {},
   "outputs": [
    {
     "data": {
      "text/plain": [
       "1"
      ]
     },
     "execution_count": 71,
     "metadata": {},
     "output_type": "execute_result"
    }
   ],
   "source": [
    "next(gen)"
   ]
  },
  {
   "cell_type": "code",
   "execution_count": 72,
   "id": "a960824f",
   "metadata": {},
   "outputs": [
    {
     "data": {
      "text/plain": [
       "1"
      ]
     },
     "execution_count": 72,
     "metadata": {},
     "output_type": "execute_result"
    }
   ],
   "source": [
    "next(gen)"
   ]
  },
  {
   "cell_type": "code",
   "execution_count": 73,
   "id": "b85a3b36",
   "metadata": {},
   "outputs": [
    {
     "data": {
      "text/plain": [
       "2"
      ]
     },
     "execution_count": 73,
     "metadata": {},
     "output_type": "execute_result"
    }
   ],
   "source": [
    "next(gen)"
   ]
  },
  {
   "cell_type": "code",
   "execution_count": 74,
   "id": "f40cf5aa",
   "metadata": {},
   "outputs": [
    {
     "data": {
      "text/plain": [
       "3"
      ]
     },
     "execution_count": 74,
     "metadata": {},
     "output_type": "execute_result"
    }
   ],
   "source": [
    "next(gen)"
   ]
  },
  {
   "cell_type": "code",
   "execution_count": 75,
   "id": "20479d9b",
   "metadata": {},
   "outputs": [
    {
     "data": {
      "text/plain": [
       "5"
      ]
     },
     "execution_count": 75,
     "metadata": {},
     "output_type": "execute_result"
    }
   ],
   "source": [
    "next(gen)"
   ]
  },
  {
   "cell_type": "code",
   "execution_count": 76,
   "id": "ceb74971",
   "metadata": {},
   "outputs": [
    {
     "ename": "StopIteration",
     "evalue": "",
     "output_type": "error",
     "traceback": [
      "\u001b[1;31m---------------------------------------------------------------------------\u001b[0m",
      "\u001b[1;31mStopIteration\u001b[0m                             Traceback (most recent call last)",
      "Input \u001b[1;32mIn [76]\u001b[0m, in \u001b[0;36m<cell line: 1>\u001b[1;34m()\u001b[0m\n\u001b[1;32m----> 1\u001b[0m \u001b[38;5;28;43mnext\u001b[39;49m\u001b[43m(\u001b[49m\u001b[43mgen\u001b[49m\u001b[43m)\u001b[49m\n",
      "\u001b[1;31mStopIteration\u001b[0m: "
     ]
    }
   ],
   "source": [
    "next(gen)"
   ]
  },
  {
   "cell_type": "markdown",
   "id": "a686e167",
   "metadata": {},
   "source": [
    "_______"
   ]
  },
  {
   "cell_type": "markdown",
   "id": "780f26a7",
   "metadata": {},
   "source": [
    "Q6) Write a generator function in Python that yields the powers of 2 up to a given exponent."
   ]
  },
  {
   "cell_type": "code",
   "execution_count": 82,
   "id": "86d3c13f",
   "metadata": {},
   "outputs": [
    {
     "data": {
      "text/plain": [
       "1"
      ]
     },
     "execution_count": 82,
     "metadata": {},
     "output_type": "execute_result"
    }
   ],
   "source": [
    "def raiser(x):\n",
    "    for i in range(x+1):\n",
    "        yield 2**i\n",
    "\n",
    "gen=raiser(3)\n",
    "next(gen)"
   ]
  },
  {
   "cell_type": "code",
   "execution_count": 83,
   "id": "74f81abe",
   "metadata": {},
   "outputs": [
    {
     "data": {
      "text/plain": [
       "2"
      ]
     },
     "execution_count": 83,
     "metadata": {},
     "output_type": "execute_result"
    }
   ],
   "source": [
    "next(gen)"
   ]
  },
  {
   "cell_type": "code",
   "execution_count": 84,
   "id": "a63866e5",
   "metadata": {},
   "outputs": [
    {
     "data": {
      "text/plain": [
       "4"
      ]
     },
     "execution_count": 84,
     "metadata": {},
     "output_type": "execute_result"
    }
   ],
   "source": [
    "next(gen)"
   ]
  },
  {
   "cell_type": "code",
   "execution_count": 85,
   "id": "fef9090d",
   "metadata": {},
   "outputs": [
    {
     "data": {
      "text/plain": [
       "8"
      ]
     },
     "execution_count": 85,
     "metadata": {},
     "output_type": "execute_result"
    }
   ],
   "source": [
    "next(gen)"
   ]
  },
  {
   "cell_type": "code",
   "execution_count": 86,
   "id": "6bd3956c",
   "metadata": {},
   "outputs": [
    {
     "ename": "StopIteration",
     "evalue": "",
     "output_type": "error",
     "traceback": [
      "\u001b[1;31m---------------------------------------------------------------------------\u001b[0m",
      "\u001b[1;31mStopIteration\u001b[0m                             Traceback (most recent call last)",
      "Input \u001b[1;32mIn [86]\u001b[0m, in \u001b[0;36m<cell line: 1>\u001b[1;34m()\u001b[0m\n\u001b[1;32m----> 1\u001b[0m \u001b[38;5;28;43mnext\u001b[39;49m\u001b[43m(\u001b[49m\u001b[43mgen\u001b[49m\u001b[43m)\u001b[49m\n",
      "\u001b[1;31mStopIteration\u001b[0m: "
     ]
    }
   ],
   "source": [
    "next(gen)"
   ]
  },
  {
   "cell_type": "markdown",
   "id": "ce2aef23",
   "metadata": {},
   "source": [
    "______"
   ]
  },
  {
   "cell_type": "markdown",
   "id": "186c2044",
   "metadata": {},
   "source": [
    "Q7)  Implement a generator function that reads a file line by line and yields each line as a string."
   ]
  },
  {
   "cell_type": "code",
   "execution_count": 24,
   "id": "fdb1f3d1",
   "metadata": {},
   "outputs": [],
   "source": [
    "with open('generator.txt', 'w') as file:  # Creating a file using open()\n",
    "    file.write(\"\"\"THIS IS MUMBAI \\nCALLED AS THE CITY OF DREAMS\\nMANY OF ACHIVE THEIR DREAMS HERE\\nBUT REST STRUGGLE AND DIE IN ACHIVING IT.\"\"\")         # Writing content to the file\n",
    "\n",
    "def readfile(str):\n",
    "    with open('generator.txt', 'r') as file:  # Reading the file\n",
    "        lines = file.readlines()\n",
    "        for line in lines:\n",
    "            yield line.strip()\n",
    "            \n",
    "read=readfile(\"generator.txt\")\n"
   ]
  },
  {
   "cell_type": "code",
   "execution_count": 25,
   "id": "f8c06e75",
   "metadata": {},
   "outputs": [
    {
     "data": {
      "text/plain": [
       "'THIS IS MUMBAI'"
      ]
     },
     "execution_count": 25,
     "metadata": {},
     "output_type": "execute_result"
    }
   ],
   "source": [
    "next(read)"
   ]
  },
  {
   "cell_type": "code",
   "execution_count": 26,
   "id": "ee1e70ed",
   "metadata": {},
   "outputs": [
    {
     "data": {
      "text/plain": [
       "'CALLED AS THE CITY OF DREAMS'"
      ]
     },
     "execution_count": 26,
     "metadata": {},
     "output_type": "execute_result"
    }
   ],
   "source": [
    "next(read)"
   ]
  },
  {
   "cell_type": "code",
   "execution_count": 27,
   "id": "f5dcc38e",
   "metadata": {},
   "outputs": [
    {
     "data": {
      "text/plain": [
       "'MANY OF ACHIVE THEIR DREAMS HERE'"
      ]
     },
     "execution_count": 27,
     "metadata": {},
     "output_type": "execute_result"
    }
   ],
   "source": [
    "next(read)"
   ]
  },
  {
   "cell_type": "code",
   "execution_count": 28,
   "id": "188698d5",
   "metadata": {},
   "outputs": [
    {
     "data": {
      "text/plain": [
       "'BUT REST STRUGGLE AND DIE IN ACHIVING IT.'"
      ]
     },
     "execution_count": 28,
     "metadata": {},
     "output_type": "execute_result"
    }
   ],
   "source": [
    "next(read)"
   ]
  },
  {
   "cell_type": "code",
   "execution_count": 29,
   "id": "aeb10a15",
   "metadata": {},
   "outputs": [
    {
     "ename": "StopIteration",
     "evalue": "",
     "output_type": "error",
     "traceback": [
      "\u001b[1;31m---------------------------------------------------------------------------\u001b[0m",
      "\u001b[1;31mStopIteration\u001b[0m                             Traceback (most recent call last)",
      "Input \u001b[1;32mIn [29]\u001b[0m, in \u001b[0;36m<cell line: 1>\u001b[1;34m()\u001b[0m\n\u001b[1;32m----> 1\u001b[0m \u001b[38;5;28;43mnext\u001b[39;49m\u001b[43m(\u001b[49m\u001b[43mread\u001b[49m\u001b[43m)\u001b[49m\n",
      "\u001b[1;31mStopIteration\u001b[0m: "
     ]
    }
   ],
   "source": [
    "next(read)"
   ]
  },
  {
   "cell_type": "markdown",
   "id": "47f04c20",
   "metadata": {},
   "source": [
    "________"
   ]
  },
  {
   "cell_type": "markdown",
   "id": "ecebcd71",
   "metadata": {},
   "source": [
    "Q8) Use a lambda function in Python to sort a list of tuples based on the second element of each tuple"
   ]
  },
  {
   "cell_type": "code",
   "execution_count": 3,
   "id": "d9c99336",
   "metadata": {},
   "outputs": [
    {
     "name": "stdout",
     "output_type": "stream",
     "text": [
      "[(2, 1), (4, 2), (1, 3), (3, 4)]\n"
     ]
    }
   ],
   "source": [
    "t = [(1, 3), (2, 1), (4, 2), (3, 4)]\n",
    "sorted_list = sorted(t, key=lambda x: x[1])\n",
    "\n",
    "print(sorted_list)\n"
   ]
  },
  {
   "cell_type": "markdown",
   "id": "2f248ef3",
   "metadata": {},
   "source": [
    "______"
   ]
  },
  {
   "cell_type": "markdown",
   "id": "9ba3fa57",
   "metadata": {},
   "source": [
    "Q9) . Write a Python program that uses `map()` to convert a list of temperatures from Celsius to Fahrenheit."
   ]
  },
  {
   "cell_type": "code",
   "execution_count": 97,
   "id": "d3cc6720",
   "metadata": {},
   "outputs": [
    {
     "data": {
      "text/plain": [
       "[33.8, 35.6, 37.4, 39.2]"
      ]
     },
     "execution_count": 97,
     "metadata": {},
     "output_type": "execute_result"
    }
   ],
   "source": [
    "l=[1,2,3,4]\n",
    "list(map(lambda x:x*(9/5)+32,l))"
   ]
  },
  {
   "cell_type": "markdown",
   "id": "245a55a2",
   "metadata": {},
   "source": [
    "_______"
   ]
  },
  {
   "cell_type": "markdown",
   "id": "7d1cc0d4",
   "metadata": {},
   "source": [
    "Q10) Create a Python program that uses `filter()` to remove all the vowels from a given string."
   ]
  },
  {
   "cell_type": "code",
   "execution_count": 17,
   "id": "964ad639",
   "metadata": {},
   "outputs": [
    {
     "name": "stdout",
     "output_type": "stream",
     "text": [
      "rghnndn\n"
     ]
    }
   ],
   "source": [
    "l=\"raghunandan\"\n",
    "res=[]\n",
    "fres=\"\"\n",
    "res=list(filter(lambda x: x!=\"a\" and x!=\"e\" and x!=\"i\" and x!=\"o\" and x!=\"u\", l))\n",
    "for i in res:\n",
    "    fres=fres+i\n",
    "    \n",
    "print(fres)"
   ]
  },
  {
   "cell_type": "markdown",
   "id": "a5fee80e",
   "metadata": {},
   "source": [
    "____"
   ]
  },
  {
   "cell_type": "markdown",
   "id": "2c08c461",
   "metadata": {},
   "source": [
    "Q11) Write a Python program, which returns a list with 2-tuples. Each tuple consists of the order number and the\n",
    "product of the price per item and the quantity. The product should be increased by 10,- € if the value of the\n",
    "order is smaller than 100,00 €"
   ]
  },
  {
   "cell_type": "code",
   "execution_count": 46,
   "id": "25f53521",
   "metadata": {},
   "outputs": [
    {
     "name": "stdout",
     "output_type": "stream",
     "text": [
      "[(34587, 163.8), (98762, 284.0), (77226, 108.85), (88112, 84.97)]\n"
     ]
    }
   ],
   "source": [
    "acc = [\n",
    "    [34587, \"Learning Python\", \"Mark Lutz\", 4, 40.95],\n",
    "    [98762, \"Programming Python\", \"Mark Lutz\", 5, 56.80],\n",
    "    [77226, \"Head First Python\", \"Paul Barry\", \"3\", \"32.95\"],\n",
    "    [88112, \"Einfuhrung in Python3\", \"Brend Klein\", 3, 24.99],\n",
    "]\n",
    "result = list(map(lambda x: (x[0], round(int(x[3]) * float(x[4]) + (10 if int(x[3]) * float(x[4]) < 100 else 0), 2)),acc))\n",
    "print(result)"
   ]
  },
  {
   "cell_type": "code",
   "execution_count": null,
   "id": "48a5db61",
   "metadata": {},
   "outputs": [],
   "source": []
  }
 ],
 "metadata": {
  "kernelspec": {
   "display_name": "Python 3 (ipykernel)",
   "language": "python",
   "name": "python3"
  },
  "language_info": {
   "codemirror_mode": {
    "name": "ipython",
    "version": 3
   },
   "file_extension": ".py",
   "mimetype": "text/x-python",
   "name": "python",
   "nbconvert_exporter": "python",
   "pygments_lexer": "ipython3",
   "version": "3.9.12"
  }
 },
 "nbformat": 4,
 "nbformat_minor": 5
}
