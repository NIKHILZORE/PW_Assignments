{
 "cells": [
  {
   "cell_type": "markdown",
   "id": "d164dca4",
   "metadata": {},
   "source": [
    " Q1) Explain the key features of Python that make it a popular choice for programming"
   ]
  },
  {
   "cell_type": "markdown",
   "id": "2523bf15",
   "metadata": {},
   "source": [
    "There are three main features that make it a popular choice for programming:\n",
    "1) Vast no of Libraries\n",
    "Python has large no of libraries like numpy , pandas , seaborn , matplotlib etc which makes the visualization and data manipulation much easier and simlar task are followed by other libraries as well in different domains.\n",
    "\n",
    "2) Large active community \n",
    "Its vast active community helps the language to thrive and come up with new features and libraries which makes it more efficient for use . \n",
    "\n",
    "3) Easy to understand and Learn\n",
    "Python syntax is just like speaking english which makes it easy for a new learner to learn as well to understand ."
   ]
  },
  {
   "cell_type": "markdown",
   "id": "0eb633e1",
   "metadata": {},
   "source": [
    "---------------------------------------------------------------------------------------------------------------------------"
   ]
  },
  {
   "cell_type": "markdown",
   "id": "c5dfa9d1",
   "metadata": {},
   "source": [
    " Q2) Describe the role of predefined keywords in Python and provide examples of how they are used in a\n",
    "program."
   ]
  },
  {
   "cell_type": "markdown",
   "id": "496eaf59",
   "metadata": {},
   "source": [
    "1) Predefined keywords are special words in python that are associated with a specfic task or action. These words cannot be used as identifiers as it create confusion for the interpreator.\n",
    "\n",
    "2) eg for , in ,range , print these are all keywords used when  we are performing a for loop "
   ]
  },
  {
   "cell_type": "code",
   "execution_count": 4,
   "id": "1855b82c",
   "metadata": {},
   "outputs": [
    {
     "name": "stdout",
     "output_type": "stream",
     "text": [
      "0\n",
      "1\n",
      "2\n",
      "3\n",
      "4\n"
     ]
    }
   ],
   "source": [
    "k=5\n",
    "for i in range(k):\n",
    "    print(i)"
   ]
  },
  {
   "cell_type": "code",
   "execution_count": 3,
   "id": "1a937caa",
   "metadata": {},
   "outputs": [
    {
     "ename": "SyntaxError",
     "evalue": "invalid syntax (2293242231.py, line 1)",
     "output_type": "error",
     "traceback": [
      "\u001b[1;36m  Input \u001b[1;32mIn [3]\u001b[1;36m\u001b[0m\n\u001b[1;33m    for=5\u001b[0m\n\u001b[1;37m       ^\u001b[0m\n\u001b[1;31mSyntaxError\u001b[0m\u001b[1;31m:\u001b[0m invalid syntax\n"
     ]
    }
   ],
   "source": [
    "for=5\n",
    "for i in range (for):\n",
    "    print(i)"
   ]
  },
  {
   "cell_type": "markdown",
   "id": "1fe8dd49",
   "metadata": {},
   "source": [
    "in the above code it is showing a syntax error, although the assignemt is correct but what variable name we are using, thats creates a error \n",
    "\n",
    "3) similarly if we use other keywords these will also create syntax errors."
   ]
  },
  {
   "cell_type": "markdown",
   "id": "e8c37091",
   "metadata": {},
   "source": [
    "----------------------------------------------------------------------------------------------------------------------------"
   ]
  },
  {
   "cell_type": "markdown",
   "id": "b3efee3c",
   "metadata": {},
   "source": [
    "Q3) Compare and contrast mutable and immutable objects in Python with examples0"
   ]
  },
  {
   "cell_type": "markdown",
   "id": "8984def3",
   "metadata": {},
   "source": [
    " Mutable                                                                       \n",
    "1) Mutable objects are those in which the values of object can be modified even after declaration            \n",
    "2) List ,Dictonary                                         \n",
    "\n",
    "Immutable\n",
    "1) The objects whose values cannot be changed after declaration. \n",
    "2) string ,Tuple "
   ]
  },
  {
   "cell_type": "code",
   "execution_count": 7,
   "id": "c2257e8f",
   "metadata": {},
   "outputs": [
    {
     "name": "stdout",
     "output_type": "stream",
     "text": [
      "List before change: ['suman', '5', 7]\n",
      "List after changes: ['suman', '5', 'ramesh']\n"
     ]
    }
   ],
   "source": [
    "# Mutable : List \n",
    "data=[\"suman\",\"5\",7]\n",
    "print(f\"List before change: {data}\")\n",
    "data[2]=\"ramesh\"\n",
    "print(f\"List after changes: {data}\")        # 7 changes to ramesh"
   ]
  },
  {
   "cell_type": "code",
   "execution_count": 8,
   "id": "e589ca34",
   "metadata": {},
   "outputs": [
    {
     "ename": "TypeError",
     "evalue": "'str' object does not support item assignment",
     "output_type": "error",
     "traceback": [
      "\u001b[1;31m---------------------------------------------------------------------------\u001b[0m",
      "\u001b[1;31mTypeError\u001b[0m                                 Traceback (most recent call last)",
      "Input \u001b[1;32mIn [8]\u001b[0m, in \u001b[0;36m<cell line: 3>\u001b[1;34m()\u001b[0m\n\u001b[0;32m      1\u001b[0m \u001b[38;5;66;03m#Immutable : String\u001b[39;00m\n\u001b[0;32m      2\u001b[0m name\u001b[38;5;241m=\u001b[39m\u001b[38;5;124m\"\u001b[39m\u001b[38;5;124mSuman\u001b[39m\u001b[38;5;124m\"\u001b[39m\n\u001b[1;32m----> 3\u001b[0m name[\u001b[38;5;241m0\u001b[39m]\u001b[38;5;241m=\u001b[39m\u001b[38;5;124m\"\u001b[39m\u001b[38;5;124mR\u001b[39m\u001b[38;5;124m\"\u001b[39m\n\u001b[0;32m      4\u001b[0m \u001b[38;5;28mprint\u001b[39m(name)\n",
      "\u001b[1;31mTypeError\u001b[0m: 'str' object does not support item assignment"
     ]
    }
   ],
   "source": [
    "#Immutable : String\n",
    "name=\"Suman\"\n",
    "name[0]=\"R\"\n",
    "print(name)           # it states the string are immutable and do not support assignemt asa we did in list."
   ]
  },
  {
   "cell_type": "markdown",
   "id": "b172c61a",
   "metadata": {},
   "source": [
    "___________________________________________________________________________________________________________________________"
   ]
  },
  {
   "cell_type": "markdown",
   "id": "1d1d7c13",
   "metadata": {},
   "source": [
    "Q4)  Discuss the different types of operators in Python and provide examples of how they are used."
   ]
  },
  {
   "cell_type": "markdown",
   "id": "37421c0c",
   "metadata": {},
   "source": [
    " Different Types of operators used in Python are as follows:\n",
    " 1) Arithematic Operators :[ +,-,/,%,*,//,**] perform basic arithematic operation like  addition , subtraction , division , modulus(return remainder) , multiplication , floor operation(return nearest int value ),power operator (return raised to power )"
   ]
  },
  {
   "cell_type": "code",
   "execution_count": 3,
   "id": "d9f3ef44",
   "metadata": {},
   "outputs": [
    {
     "name": "stdout",
     "output_type": "stream",
     "text": [
      "9\n",
      "3\n",
      "2.0\n",
      "0\n",
      "18\n",
      "2\n",
      "216\n"
     ]
    }
   ],
   "source": [
    "a=6\n",
    "b=3\n",
    "print(a+b)\n",
    "print(a-b)\n",
    "print(a/b)\n",
    "print(a%b)\n",
    "print(a*b)\n",
    "print(a//b)\n",
    "print(a**b)"
   ]
  },
  {
   "cell_type": "markdown",
   "id": "1f0aa03c",
   "metadata": {},
   "source": [
    "2) Assignment OPerator : [=] it assigns values to placeholders , function etc ."
   ]
  },
  {
   "cell_type": "code",
   "execution_count": 4,
   "id": "7bb83627",
   "metadata": {},
   "outputs": [
    {
     "data": {
      "text/plain": [
       "4"
      ]
     },
     "execution_count": 4,
     "metadata": {},
     "output_type": "execute_result"
    }
   ],
   "source": [
    "a=4\n",
    "a  #here a is assigned value 4"
   ]
  },
  {
   "cell_type": "markdown",
   "id": "d9bdf60e",
   "metadata": {},
   "source": [
    "3) Comparision Operator :it compares two values and returns result(bool if not specified).[>,<,>=,<=,==,!=]"
   ]
  },
  {
   "cell_type": "code",
   "execution_count": 5,
   "id": "62dba152",
   "metadata": {},
   "outputs": [
    {
     "name": "stdout",
     "output_type": "stream",
     "text": [
      "yes\n"
     ]
    }
   ],
   "source": [
    "print(\"yes\") if 5>3 else print(\"no\")"
   ]
  },
  {
   "cell_type": "code",
   "execution_count": 8,
   "id": "d516f4ce",
   "metadata": {},
   "outputs": [
    {
     "name": "stdout",
     "output_type": "stream",
     "text": [
      "False\n",
      "True\n",
      "False\n",
      "False\n",
      "True\n"
     ]
    }
   ],
   "source": [
    "print(5<3)\n",
    "print(5>=3)\n",
    "print(5<=3)\n",
    "print(5==3)\n",
    "print(5!=3)"
   ]
  },
  {
   "cell_type": "markdown",
   "id": "75e63db0",
   "metadata": {},
   "source": [
    "4) Logical Operator : Implements the logic of logical 'and' , 'or', 'not' in the code "
   ]
  },
  {
   "cell_type": "code",
   "execution_count": 10,
   "id": "8de09528",
   "metadata": {},
   "outputs": [
    {
     "name": "stdout",
     "output_type": "stream",
     "text": [
      "yes\n",
      "no\n"
     ]
    }
   ],
   "source": [
    "print(\"yes\") if 5>3 and 6>4 else print(\"no\")    # 'and' when both are true then true else false\n",
    "print(\"yes\") if 5>3 and 6<4 else print(\"no\")"
   ]
  },
  {
   "cell_type": "code",
   "execution_count": 12,
   "id": "2b21762b",
   "metadata": {},
   "outputs": [
    {
     "name": "stdout",
     "output_type": "stream",
     "text": [
      "yes\n",
      "no\n"
     ]
    }
   ],
   "source": [
    "print(\"yes\") if 5>3 or 6>4 else print(\"no\")\n",
    "print(\"yes\") if 5<3 or 6<4 else print(\"no\")      # 'or' if both are false then false else true "
   ]
  },
  {
   "cell_type": "code",
   "execution_count": 13,
   "id": "726ce660",
   "metadata": {},
   "outputs": [
    {
     "name": "stdout",
     "output_type": "stream",
     "text": [
      "no\n"
     ]
    }
   ],
   "source": [
    "print(\"yes\") if not(5>3) else print(\"no\")    # 'not' returns the opposite of the answer "
   ]
  },
  {
   "cell_type": "markdown",
   "id": "eeca1b11",
   "metadata": {},
   "source": [
    "5) Membership Operator 'in' : Verifies whether a given obj is present in a obj or not , return bool as default result."
   ]
  },
  {
   "cell_type": "code",
   "execution_count": 14,
   "id": "8cb137f4",
   "metadata": {},
   "outputs": [
    {
     "name": "stdout",
     "output_type": "stream",
     "text": [
      "True\n"
     ]
    }
   ],
   "source": [
    "data=[\"suman\",\"rajesh\",\"alok\"]\n",
    "print(\"suman\" in data)"
   ]
  },
  {
   "cell_type": "markdown",
   "id": "b8d5b524",
   "metadata": {},
   "source": [
    "6) Identity Operator 'is': Specifies whether two obj's are same or not , return bool as default result."
   ]
  },
  {
   "cell_type": "code",
   "execution_count": 15,
   "id": "94c53fd2",
   "metadata": {},
   "outputs": [
    {
     "data": {
      "text/plain": [
       "True"
      ]
     },
     "execution_count": 15,
     "metadata": {},
     "output_type": "execute_result"
    }
   ],
   "source": [
    "a=5\n",
    "b=5\n",
    "a is b    # it signifies that a and b point out to same location. "
   ]
  },
  {
   "cell_type": "markdown",
   "id": "241a49c7",
   "metadata": {},
   "source": [
    "7) Bitwise operator [&,|,~,^]: implies the AND , OR , NOT, XOR gate logic, it operates on bit level."
   ]
  },
  {
   "cell_type": "code",
   "execution_count": 21,
   "id": "a58ff1e0",
   "metadata": {},
   "outputs": [
    {
     "name": "stdout",
     "output_type": "stream",
     "text": [
      "0b101\n",
      "0b10\n",
      "0\n",
      "-8\n",
      "7\n",
      "7\n"
     ]
    }
   ],
   "source": [
    "print(bin(5))\n",
    "print(bin(2))\n",
    "print(5&2)      #performs 'and'1,1 is 1 else all o \n",
    "print(~(5|2))  # perform negation of the result all 0 to 1 with '-' sign\n",
    "print(5|2)     # perform 'or ' 0,0 =0 rest all 1  \n",
    "print(5^2)     # perform 'xor' 1,1 ; 0,0 =0 and 1,0 ; 0,1 =1 "
   ]
  },
  {
   "cell_type": "markdown",
   "id": "1bf70248",
   "metadata": {},
   "source": [
    "8) Shift Operator : '<<' and '>>' left and right shift operators .Left shift shifts the bits with a specfied number of position and adds 0 in empty spaces whereas right shifts it at right deleting a specified number of position."
   ]
  },
  {
   "cell_type": "code",
   "execution_count": 22,
   "id": "45e8754d",
   "metadata": {},
   "outputs": [
    {
     "data": {
      "text/plain": [
       "'0b100011'"
      ]
     },
     "execution_count": 22,
     "metadata": {},
     "output_type": "execute_result"
    }
   ],
   "source": [
    "bin(35)"
   ]
  },
  {
   "cell_type": "code",
   "execution_count": 23,
   "id": "0c1602d4",
   "metadata": {},
   "outputs": [
    {
     "data": {
      "text/plain": [
       "'0b10001100000'"
      ]
     },
     "execution_count": 23,
     "metadata": {},
     "output_type": "execute_result"
    }
   ],
   "source": [
    "bin(35<<5)           #1120"
   ]
  },
  {
   "cell_type": "code",
   "execution_count": 25,
   "id": "115255d4",
   "metadata": {},
   "outputs": [
    {
     "data": {
      "text/plain": [
       "'0b100011'"
      ]
     },
     "execution_count": 25,
     "metadata": {},
     "output_type": "execute_result"
    }
   ],
   "source": [
    "bin(0b10001100000>>5)   #35 "
   ]
  },
  {
   "cell_type": "markdown",
   "id": "68ccd1e1",
   "metadata": {},
   "source": [
    "______________"
   ]
  },
  {
   "cell_type": "markdown",
   "id": "fa610f69",
   "metadata": {},
   "source": [
    "Q5)  Explain the concept of type casting in Python with examples."
   ]
  },
  {
   "cell_type": "markdown",
   "id": "85ca6bee",
   "metadata": {},
   "source": [
    "Typecasting means to change the data type of the obj from string to integer and many other. There are two types of typecasting implicit and explicit . \n",
    "Implicit:  Default data Type assigned by python to a var while declaration (automatically) eg a=5 by default int \\\n",
    "Explicit: We have to change manually to our desired datatype from assigned."
   ]
  },
  {
   "cell_type": "code",
   "execution_count": 26,
   "id": "987f1912",
   "metadata": {},
   "outputs": [
    {
     "name": "stdout",
     "output_type": "stream",
     "text": [
      "<class 'int'>\n",
      "<class 'int'>\n"
     ]
    },
    {
     "data": {
      "text/plain": [
       "10"
      ]
     },
     "execution_count": 26,
     "metadata": {},
     "output_type": "execute_result"
    }
   ],
   "source": [
    "a=5 \n",
    "b=5\n",
    "print(type(a))   # default int and can perform arithematic operation  # implicit \n",
    "print(type(b))\n",
    "a+b"
   ]
  },
  {
   "cell_type": "code",
   "execution_count": 32,
   "id": "364d1d41",
   "metadata": {},
   "outputs": [
    {
     "name": "stdout",
     "output_type": "stream",
     "text": [
      "<class 'int'>\n",
      "<class 'str'>\n"
     ]
    },
    {
     "ename": "TypeError",
     "evalue": "unsupported operand type(s) for +: 'int' and 'str'",
     "output_type": "error",
     "traceback": [
      "\u001b[1;31m---------------------------------------------------------------------------\u001b[0m",
      "\u001b[1;31mTypeError\u001b[0m                                 Traceback (most recent call last)",
      "Input \u001b[1;32mIn [32]\u001b[0m, in \u001b[0;36m<cell line: 5>\u001b[1;34m()\u001b[0m\n\u001b[0;32m      3\u001b[0m \u001b[38;5;28mprint\u001b[39m(\u001b[38;5;28mtype\u001b[39m(a)) \n\u001b[0;32m      4\u001b[0m \u001b[38;5;28mprint\u001b[39m(\u001b[38;5;28mtype\u001b[39m(b))\n\u001b[1;32m----> 5\u001b[0m \u001b[43ma\u001b[49m\u001b[38;5;241;43m+\u001b[39;49m\u001b[43mb\u001b[49m\n",
      "\u001b[1;31mTypeError\u001b[0m: unsupported operand type(s) for +: 'int' and 'str'"
     ]
    }
   ],
   "source": [
    "a=5\n",
    "b=\"5\"  # define as string \n",
    "print(type(a)) \n",
    "print(type(b))\n",
    "a+b"
   ]
  },
  {
   "cell_type": "code",
   "execution_count": 31,
   "id": "5e955607",
   "metadata": {},
   "outputs": [
    {
     "name": "stdout",
     "output_type": "stream",
     "text": [
      "<class 'int'>\n",
      "<class 'int'>\n"
     ]
    },
    {
     "data": {
      "text/plain": [
       "10"
      ]
     },
     "execution_count": 31,
     "metadata": {},
     "output_type": "execute_result"
    }
   ],
   "source": [
    "a=5\n",
    "b=\"5\"             # user has defined as str to add we need to convert to int\n",
    "b=int(b)         # explicit typecasting \n",
    "print(type(a))    \n",
    "print(type(b))\n",
    "a+b"
   ]
  },
  {
   "cell_type": "markdown",
   "id": "14a07c62",
   "metadata": {},
   "source": [
    "___________"
   ]
  },
  {
   "cell_type": "markdown",
   "id": "c171cfde",
   "metadata": {},
   "source": [
    "Q6) How do conditional statements work in Python? Illustrate with examples.\n"
   ]
  },
  {
   "cell_type": "markdown",
   "id": "1bcbc176",
   "metadata": {},
   "source": [
    "Conditional statements work on the basis of True and False . The result of the condition given executes the specfic block of code associated to it ."
   ]
  },
  {
   "cell_type": "code",
   "execution_count": 5,
   "id": "a602c4a2",
   "metadata": {},
   "outputs": [
    {
     "name": "stdout",
     "output_type": "stream",
     "text": [
      "ENTER AGE: 21\n",
      "DRIVE\n"
     ]
    }
   ],
   "source": [
    "# eg :determine whether to drive a car or not based on age .\n",
    "age=int(input(\"ENTER AGE: \"))\n",
    "if age>=18:                           # here the conditon becomes true so block associated with it executes  \n",
    "    print(\"DRIVE\") \n",
    "else:\n",
    "    print(\"MINOR NO DRIVE.\")"
   ]
  },
  {
   "cell_type": "code",
   "execution_count": 6,
   "id": "6e7594c6",
   "metadata": {},
   "outputs": [
    {
     "name": "stdout",
     "output_type": "stream",
     "text": [
      "ENTER AGE: 17\n",
      "MINOR NO DRIVE.\n"
     ]
    }
   ],
   "source": [
    "age=int(input(\"ENTER AGE: \"))\n",
    "if age>=18:                           # here the conditon becomes false so block associated with it executes  \n",
    "    print(\"DRIVE\") \n",
    "else:\n",
    "    print(\"MINOR NO DRIVE.\")"
   ]
  },
  {
   "cell_type": "markdown",
   "id": "5b5fba79",
   "metadata": {},
   "source": [
    "__________________________________________________________________________________________________"
   ]
  },
  {
   "cell_type": "markdown",
   "id": "9eb862e5",
   "metadata": {},
   "source": [
    "Q7) Describe the different types of loops in Python and their use cases with examples"
   ]
  },
  {
   "cell_type": "markdown",
   "id": "5c578897",
   "metadata": {},
   "source": [
    "There are two loops used in python'for' and 'while' loop , we use for loop when we have to iterate over a fixed no. of intervals (defined) whereas wecan do the same with while loop as well but while loop is primarily used when we have to iteretae a block untill the conditon becomes false ,which for loop cannot do ."
   ]
  },
  {
   "cell_type": "code",
   "execution_count": 7,
   "id": "6f757591",
   "metadata": {},
   "outputs": [
    {
     "name": "stdout",
     "output_type": "stream",
     "text": [
      "0\n",
      "1\n",
      "2\n",
      "3\n",
      "4\n"
     ]
    }
   ],
   "source": [
    "# eg for loop\n",
    "for i in range (5):   # will iterate till i<5 and i  increments each time automatically\n",
    "    print(i)"
   ]
  },
  {
   "cell_type": "code",
   "execution_count": 2,
   "id": "c233bcab",
   "metadata": {},
   "outputs": [
    {
     "name": "stdout",
     "output_type": "stream",
     "text": [
      "enter y or n y\n",
      "GREAT\n",
      "enter y or n y\n",
      "GREAT\n",
      "enter y or n n\n",
      "thankyou\n"
     ]
    }
   ],
   "source": [
    "while True:        #this statement will make the loop to run for ever utill 'n' is given as input and the loop breaks\n",
    "    i=input(\"enter y or n \")\n",
    "    if i=='y':\n",
    "        print(\"GREAT\")\n",
    "    else:\n",
    "        print(\"thankyou\")\n",
    "        break"
   ]
  },
  {
   "cell_type": "code",
   "execution_count": null,
   "id": "ba0254ce",
   "metadata": {},
   "outputs": [],
   "source": []
  }
 ],
 "metadata": {
  "kernelspec": {
   "display_name": "Python 3 (ipykernel)",
   "language": "python",
   "name": "python3"
  },
  "language_info": {
   "codemirror_mode": {
    "name": "ipython",
    "version": 3
   },
   "file_extension": ".py",
   "mimetype": "text/x-python",
   "name": "python",
   "nbconvert_exporter": "python",
   "pygments_lexer": "ipython3",
   "version": "3.9.12"
  }
 },
 "nbformat": 4,
 "nbformat_minor": 5
}
